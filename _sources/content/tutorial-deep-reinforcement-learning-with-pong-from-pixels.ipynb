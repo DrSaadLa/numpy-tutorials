{
 "cells": [
  {
   "cell_type": "markdown",
   "id": "ba35d215",
   "metadata": {},
   "source": [
    "# Deep reinforcement learning with Pong from pixels\n",
    "\n",
    "This tutorial demonstrates how to implement a deep reinforcement learning (RL) agent from scratch using a policy gradient method that learns to play the [Pong](https://gym.openai.com/envs/Pong-v0/) video game using screen pixels as inputs with NumPy. Your Pong agent will obtain experience on the go using an [artificial neural network](https://en.wikipedia.org/wiki/Artificial_neural_network) as its [policy](https://en.wikipedia.org/wiki/Reinforcement_learning).\n",
    "\n",
    "Pong is a 2D game from 1972 where two players use \"rackets\" to play a form of table tennis. Each player moves the racket up and down the screen and tries to hit a ball in their opponent's direction by touching it. The goal is to hit the ball such that it goes past the opponent's racket (they miss their shot). According to the rules, if a player reaches 21 points, they win. In Pong, the RL agent that learns to play against an opponent is displayed on the right.\n",
    "\n",
    "![Diagram showing operations detailed in this tutorial](_static/tutorial-deep-reinforcement-learning-with-pong-from-pixels.png)\n",
    "\n",
    "This example is based on the [code](https://gist.github.com/karpathy/a4166c7fe253700972fcbc77e4ea32c5) developed by [Andrej Karpathy](https://karpathy.ai) for the [Deep RL Bootcamp](https://sites.google.com/view/deep-rl-bootcamp/home) in 2017 at UC Berkeley. His [blog post](http://karpathy.github.io/2016/05/31/rl/) from 2016 also provides more background on the mechanics and theory used in Pong RL.\n",
    "\n",
    "## Prerequisites\n",
    "\n",
    "- **OpenAI Gym**: To help with the game environment, you will use [Gym](https://gym.openai.com) — an open-source Python interface [developed by OpenAI](https://arxiv.org/abs/1606.01540) that helps perform RL tasks while supporting many simulation environments.\n",
    "- **Python and NumPy**: The reader should have some knowledge of Python, NumPy array manipulation, and linear algebra.\n",
    "- **Deep learning and deep RL**: You should be familiar with main concepts of [deep learning](https://en.wikipedia.org/wiki/Deep_learning), which are explained in the [Deep learning](http://www.cs.toronto.edu/~hinton/absps/NatureDeepReview.pdf) paper published in 2015 by Yann LeCun, Yoshua Bengio, and Geoffrey Hinton, who are regarded as some of the pioneers of the field. The tutorial will try to guide you through the main concepts of deep RL and you will find various literature with links to original sources for your convenience.\n",
    "- **Jupyter notebook environments**: Because RL experiments can require high computing power, you can run the tutorial on the cloud for free using [Binder](https://mybinder.org) or [Google Colaboratory](https://colab.research.google.com/notebooks/intro.ipynb) (which offers free limited GPU and TPU acceleration).\n",
    "- **Matplotlib**: For plotting images. Check out the [installation](https://matplotlib.org/3.3.3/users/installing.html) guide to set it up in your environment.\n",
    "\n",
    "This tutorial can also be run locally in an isolated environment, such as [Virtualenv](https://virtualenv.pypa.io/en/stable/) and [conda](https://docs.conda.io/).\n",
    "\n",
    "## Table of contents\n",
    "\n",
    "- A note on RL and deep RL\n",
    "- Deep RL glossary\n",
    "1. Set up Pong\n",
    "2. Preprocess frames (the observation)\n",
    "3. Create the policy (the neural network) and the forward pass\n",
    "4. Set up the update step (backpropagation)\n",
    "5. Define the discounted rewards (expected return) function\n",
    "6. Train the agent for 3 episodes\n",
    "7. Next steps\n",
    "8. Appendix\n",
    "    - Notes on RL and deep RL\n",
    "    - How to set up video playback in your Jupyter notebook\n",
    "---\n",
    "\n",
    "### A note on RL and deep RL\n",
    "\n",
    "In [_RL_](https://en.wikipedia.org/wiki/Reinforcement_learning), your agent learns from trial and error by interacting with an environment using a so-called policy to gain experience. After taking one action, the agent receives information about its reward (which it may or may not get) and the next observation of the environment. It can then proceed to take another action. This happens over a number of episodes and/or until the task is deemed to be complete.\n",
    "\n",
    "The agent's policy works by \"mapping\" the agent's observations to its actions — that is, assigning a presentation of what the agent observes with required actions. The overall goal is usually to optimize the agent's policy such that it maximizes the expected rewards from each observation.\n",
    "\n",
    "For detailed information about RL, there is an [introductory book](https://web.archive.org/web/20050806080008/http://www.cs.ualberta.ca/~sutton/book/the-book.html) by Richard Sutton and Andrew Barton.\n",
    "\n",
    "Check out the Appendix at the end of the tutorial for more information.\n",
    "\n",
    "### Deep RL glossary\n",
    "\n",
    "Below is a concise glossary of deep RL terms you may find useful for the remaining part of the tutorial:\n",
    "\n",
    "- In a finite-horizon world, such as a game of Pong, the learning agent can explore (and exploit) the _environment_ over an _episode_. It usually takes many episodes for the agent to learn.\n",
    "- The agent interacts with the _environment_ using _actions_.\n",
    "- After taking an action, the agent receives some feedback through a _reward_ (if there is one), depending on which action it takes and the _state_ it is in. The state contains information about the environment.\n",
    "- The agent's _observation_ is a partial observation of the state — this is the term this tutorial prefers (instead of _state_).\n",
    "- The agent can choose an action based on cumulative _rewards_ (also known as the _value function_) and the _policy_. The _cumulative reward function_ estimates the quality of the observations the agent visits using its _policy_.\n",
    "- The _policy_ (defined by a neural network) outputs action choices (as (log) probabilities) that should maximize the cumulative rewards from the state the agent is in.\n",
    "- The _expected return from an observation_, conditional to the action, is called the _action-value_ function. To provide more weight to shorter-term rewards versus the longer-term ones, you usually use a _discount factor_ (often a floating point number between 0.9 and 0.99).\n",
    "- The sequence of actions and states (observations) during each policy \"run\" by the agent is sometimes referred to as a _trajectory_ — such a sequence yields _rewards_.\n",
    "\n",
    "You will train your Pong agent through an \"on-policy\" method using policy gradients — it's an algorithm belonging to a family of _policy-based_ methods. Policy gradient methods typically update the parameters of the policy with respect to the long-term cumulative reward using [_gradient descent_](https://en.wikipedia.org/wiki/Gradient_descent) that is widely used in machine learning. And, since the goal is to maximize the function (the rewards), not minimize it, the process is also called _gradient ascent_. In other words, you use a policy for the agent to take actions and the objective is to maximize the rewards, which you do by computing the gradients and use them to update the parameters in the policy (neural) network.\n",
    "\n",
    "## Set up Pong\n",
    "\n",
    "**1.** First, you should install OpenAI Gym (using `pip install gym[atari]` - this package is currently not available on conda), and import NumPy, Gym and the necessary modules:"
   ]
  },
  {
   "cell_type": "code",
   "execution_count": 1,
   "id": "4a869932",
   "metadata": {},
   "outputs": [],
   "source": [
    "import numpy as np\n",
    "import gym"
   ]
  },
  {
   "cell_type": "markdown",
   "id": "61528d4d",
   "metadata": {},
   "source": [
    "Gym can monitor and save the output using the `Monitor` wrapper:"
   ]
  },
  {
   "cell_type": "code",
   "execution_count": 2,
   "id": "bdd636d2",
   "metadata": {},
   "outputs": [],
   "source": [
    "from gym import wrappers\n",
    "from gym.wrappers import Monitor"
   ]
  },
  {
   "cell_type": "markdown",
   "id": "90c7c2ad",
   "metadata": {},
   "source": [
    "**2.** Instantiate a Gym environment for the game of Pong:"
   ]
  },
  {
   "cell_type": "code",
   "execution_count": 3,
   "id": "1c4e89fb",
   "metadata": {},
   "outputs": [],
   "source": [
    "env = gym.make(\"Pong-v0\")"
   ]
  },
  {
   "cell_type": "markdown",
   "id": "904462a1",
   "metadata": {},
   "source": [
    "**3.** Let's review which actions are available in the `Pong-v0` environment:"
   ]
  },
  {
   "cell_type": "code",
   "execution_count": 4,
   "id": "d7861d89",
   "metadata": {},
   "outputs": [
    {
     "name": "stdout",
     "output_type": "stream",
     "text": [
      "Discrete(6)\n"
     ]
    }
   ],
   "source": [
    "print(env.action_space)"
   ]
  },
  {
   "cell_type": "code",
   "execution_count": 5,
   "id": "a9121198",
   "metadata": {},
   "outputs": [
    {
     "name": "stdout",
     "output_type": "stream",
     "text": [
      "['NOOP', 'FIRE', 'RIGHT', 'LEFT', 'RIGHTFIRE', 'LEFTFIRE']\n"
     ]
    }
   ],
   "source": [
    "print(env.get_action_meanings())"
   ]
  },
  {
   "cell_type": "markdown",
   "id": "e523c81e",
   "metadata": {},
   "source": [
    "There are 6 actions. However, `LEFTFIRE` is actually `LEFT`, `RIGHTFIRE` — `RIGHT`, and `NOOP` — `FIRE`.\n",
    "\n",
    "For simplicity, your policy network will have one output — a (log) probability for \"moving up\" (indexed at `2` or `RIGHT`). The other available action will be indexed at 3 (\"move down\" or `LEFT`).\n",
    "\n",
    "**4.** Gym can save videos of the agent's learning in an MP4 format — wrap `Monitor()` around the environment by running the following:"
   ]
  },
  {
   "cell_type": "code",
   "execution_count": 6,
   "id": "12a7b849",
   "metadata": {},
   "outputs": [],
   "source": [
    "env = Monitor(env, \"./video\", force=True)"
   ]
  },
  {
   "cell_type": "markdown",
   "id": "1fde3cce",
   "metadata": {},
   "source": [
    "While you can perform all kinds of RL experiments in a Jupyter notebook, rendering images or videos of a Gym environment to visualize how your agent plays the game of Pong after training can be rather challenging. If you want to set up video playback in a notebook, you can find the details in the Appendix at the end of this tutorial.\n",
    "\n",
    "## Preprocess frames (the observation)\n",
    "\n",
    "In this section you will set up a function to preprocess the input data (game observation) to make it digestible for the neural network, which can only work with inputs that are in a form of tensors (multidimensional arrays) of floating-point type.\n",
    "\n",
    "Your agent will use the frames from the Pong game — pixels from screen frames — as input-observations for the policy network. The game observation tells the agent about where the ball is before it is fed (with a forward pass) into the neural network (the policy). This is similar to DeepMind's [DQN](https://deepmind.com/research/open-source/dqn) method (which is further discussed in the Appendix).\n",
    "\n",
    "Pong screen frames are 210x160 pixels over 3 color dimensions (red, green and blue). The arrays are encoded with `uint8` (or 8-bit integers), and these observations are stored on a Gym Box instance.\n",
    "\n",
    "**1.** Check the Pong's observations:"
   ]
  },
  {
   "cell_type": "code",
   "execution_count": 7,
   "id": "39a2508e",
   "metadata": {},
   "outputs": [
    {
     "name": "stdout",
     "output_type": "stream",
     "text": [
      "Box(0, 255, (210, 160, 3), uint8)\n"
     ]
    }
   ],
   "source": [
    "print(env.observation_space)"
   ]
  },
  {
   "cell_type": "markdown",
   "id": "fd78a98a",
   "metadata": {},
   "source": [
    "In Gym, the agent's actions and observations can be part of the `Box` (n-dimensional) or `Discrete` (fixed-range integers) classes.\n",
    "\n",
    "**2.** You can view a random observation — one frame — by:\n",
    "\n",
    "    1) Setting the random `seed` before initialization (optional).\n",
    "\n",
    "    2) Calling  Gym's `reset()` to reset the environment, which returns an initial observation.\n",
    "\n",
    "    3) Using Matplotlib to display the `render`ed observation.\n",
    "\n",
    "(You can refer to the OpenAI Gym core [API](https://github.com/openai/gym/blob/master/gym/core.py) for more information about Gym's core classes and methods.)"
   ]
  },
  {
   "cell_type": "code",
   "execution_count": 8,
   "id": "9b7ef63a",
   "metadata": {},
   "outputs": [
    {
     "name": "stdout",
     "output_type": "stream",
     "text": [
      "(210, 160, 3)\n"
     ]
    },
    {
     "data": {
      "text/plain": [
       "<matplotlib.image.AxesImage at 0x7f898dce7e80>"
      ]
     },
     "execution_count": 8,
     "metadata": {},
     "output_type": "execute_result"
    },
    {
     "data": {
      "image/png": "[encoded data removed]",
      "text/plain": [
       "<Figure size 432x288 with 1 Axes>"
      ]
     },
     "metadata": {
      "needs_background": "light"
     },
     "output_type": "display_data"
    }
   ],
   "source": [
    "import matplotlib.pyplot as plt\n",
    "\n",
    "env.seed(42)\n",
    "env.reset()\n",
    "random_frame = env.render(mode=\"rgb_array\")\n",
    "print(random_frame.shape)\n",
    "plt.imshow(random_frame)"
   ]
  },
  {
   "cell_type": "markdown",
   "id": "d73534ee",
   "metadata": {},
   "source": [
    "To feed the observations into the policy (neural) network, you need to convert them into 1D grayscale vectors with 6,400 (80x80x1) floating point arrays. (During training, you will use NumPy's [`np.ravel()`](https://numpy.org/doc/stable/reference/generated/numpy.ravel.html) function to flatten these arrays.)\n",
    "\n",
    "**3.** Set up a helper function for frame (observation) preprocessing:"
   ]
  },
  {
   "cell_type": "code",
   "execution_count": 9,
   "id": "11cd7126",
   "metadata": {},
   "outputs": [],
   "source": [
    "def frame_preprocessing(observation_frame):\n",
    "    # Crop the frame.\n",
    "    observation_frame = observation_frame[35:195]\n",
    "    # Downsample the frame by a factor of 2.\n",
    "    observation_frame = observation_frame[::2, ::2, 0]\n",
    "    # Remove the background and apply other enhancements.\n",
    "    observation_frame[observation_frame == 144] = 0  # Erase the background (type 1).\n",
    "    observation_frame[observation_frame == 109] = 0  # Erase the background (type 2).\n",
    "    observation_frame[observation_frame != 0] = 1  # Set the items (rackets, ball) to 1.\n",
    "    # Return the preprocessed frame as a 1D floating-point array.\n",
    "    return observation_frame.astype(float)"
   ]
  },
  {
   "cell_type": "markdown",
   "id": "50cca44a",
   "metadata": {},
   "source": [
    "**4.** Preprocess the random frame from earlier to test the function — the input for the policy network is an 80x80 1D image:"
   ]
  },
  {
   "cell_type": "code",
   "execution_count": 10,
   "id": "20c89071",
   "metadata": {},
   "outputs": [
    {
     "name": "stdout",
     "output_type": "stream",
     "text": [
      "(80, 80)\n"
     ]
    },
    {
     "data": {
      "image/png": "[encoded data removed]",
      "text/plain": [
       "<Figure size 432x288 with 1 Axes>"
      ]
     },
     "metadata": {
      "needs_background": "light"
     },
     "output_type": "display_data"
    }
   ],
   "source": [
    "preprocessed_random_frame = frame_preprocessing(random_frame)\n",
    "plt.imshow(preprocessed_random_frame, cmap=\"gray\")\n",
    "print(preprocessed_random_frame.shape)"
   ]
  },
  {
   "cell_type": "markdown",
   "id": "895e6f2a",
   "metadata": {},
   "source": [
    "## Create the policy (the neural network) and the forward pass\n",
    "\n",
    "Next, you will define the policy as a simple feedforward network that uses a game observation as an input and outputs an action log probability:\n",
    "\n",
    "- For the _input_, it will use the Pong video game frames — the preprocessed 1D vectors with 6,400 (80x80) floating point arrays.\n",
    "- The _hidden layer_ will compute the weighted sum of inputs using NumPy's dot product function [`np.dot()`](https://numpy.org/doc/stable/reference/generated/numpy.dot.html) for the arrays and then apply a _non-linear activation function_, such as [ReLU](https://en.wikipedia.org/wiki/Rectifier_(neural_networks)).\n",
    "- Then, the _output layer_ will perform the matrix-multiplication again of  weight parameters and the hidden layer's output (with [`np.dot()`](https://numpy.org/doc/stable/reference/generated/numpy.dot.html)), and send that information through a [softmax](https://en.wikipedia.org/wiki/Softmax_function) _activation function_.\n",
    "- In the end, the policy network will output one action log probability (given that observation) for the agent — the probability for Pong action indexed in the environment at 2 (\"moving the racket up\").\n",
    "\n",
    "**1.** Let's instantiate certain parameters for the input, hidden, and output layers, and start setting up the network model.\n",
    "\n",
    "Start by creating a random number generator instance for the experiment\n",
    "(seeded for reproducibility):"
   ]
  },
  {
   "cell_type": "code",
   "execution_count": 11,
   "id": "b12a20f2",
   "metadata": {},
   "outputs": [],
   "source": [
    "rng = np.random.default_rng(seed=12288743)"
   ]
  },
  {
   "cell_type": "markdown",
   "id": "c1c75a80",
   "metadata": {},
   "source": [
    "Then:\n",
    "\n",
    "  - Set the input (observation) dimensionality - your preprocessed screen frames:"
   ]
  },
  {
   "cell_type": "code",
   "execution_count": 12,
   "id": "83d8b05f",
   "metadata": {},
   "outputs": [],
   "source": [
    "D = 80 * 80"
   ]
  },
  {
   "cell_type": "markdown",
   "id": "8c6dccfa",
   "metadata": {},
   "source": [
    "  - Set the number of hidden layer neurons."
   ]
  },
  {
   "cell_type": "code",
   "execution_count": 13,
   "id": "e700bbbd",
   "metadata": {},
   "outputs": [],
   "source": [
    "H = 200"
   ]
  },
  {
   "cell_type": "markdown",
   "id": "f2349f4a",
   "metadata": {},
   "source": [
    "  - Instantiate your policy (neural) network model as an empty dictionary."
   ]
  },
  {
   "cell_type": "code",
   "execution_count": 14,
   "id": "0c479e8d",
   "metadata": {},
   "outputs": [],
   "source": [
    "model = {}"
   ]
  },
  {
   "cell_type": "markdown",
   "id": "620f8032",
   "metadata": {},
   "source": [
    "In a neural network, _weights_ are important adjustable parameters that the network fine-tunes by forward and backward propagating the data.\n",
    "\n",
    "**2.** Using a technique called [Xavier initialization](https://www.deeplearning.ai/ai-notes/initialization/#IV), set up the network model's initial weights with NumPy's [`Generator.standard_normal()`](https://numpy.org/doc/stable/reference/random/generated/numpy.random.Generator.standard_normal.html) that returns random numbers over a standard Normal distribution, as well as [`np.sqrt()`](https://numpy.org/doc/stable/reference/generated/numpy.sqrt.html?highlight=numpy.sqrt#numpy.sqrt):"
   ]
  },
  {
   "cell_type": "code",
   "execution_count": 15,
   "id": "1fecb4de",
   "metadata": {},
   "outputs": [],
   "source": [
    "model[\"W1\"] = rng.standard_normal(size=(H, D)) / np.sqrt(D)\n",
    "model[\"W2\"] = rng.standard_normal(size=H) / np.sqrt(H)"
   ]
  },
  {
   "cell_type": "markdown",
   "id": "0b101a4f",
   "metadata": {},
   "source": [
    "**3.** Your policy network starts by randomly initializing the weights and feeds the input data (frames) forward from the input layer through a hidden layer to the output layers. This process is called the _forward pass_ or _forward propagation_, and is outlined in the function `policy_forward()`:"
   ]
  },
  {
   "cell_type": "code",
   "execution_count": 16,
   "id": "230dcb29",
   "metadata": {},
   "outputs": [],
   "source": [
    "def policy_forward(x, model):\n",
    "    # Matrix-multiply the weights by the input in the one and only hidden layer.\n",
    "    h = np.dot(model[\"W1\"], x)\n",
    "    # Apply non-linearity with ReLU.\n",
    "    h[h < 0] = 0\n",
    "    # Calculate the \"dot\" product in the outer layer.\n",
    "    # The input for the sigmoid function is called logit.\n",
    "    logit = np.dot(model[\"W2\"], h)\n",
    "    # Apply the sigmoid function (non-linear activation).\n",
    "    p = sigmoid(logit)\n",
    "    # Return a log probability for the action 2 (\"move up\")\n",
    "    # and the hidden \"state\" that you need for backpropagation.\n",
    "    return p, h"
   ]
  },
  {
   "cell_type": "markdown",
   "id": "f1e47678",
   "metadata": {},
   "source": [
    "Note that there are two _activation functions_ for determining non-linear relationships between inputs and outputs. These [non-linear functions](https://en.wikipedia.org/wiki/Activation_function) are applied to the output of the layers:\n",
    "\n",
    "- [Rectified linear unit (ReLU)](https://en.wikipedia.org/wiki/Rectifier_(neural_networks)): defined as `h[h<0] = 0` above. It returns 0 for negative inputs and the same value if it's positive.\n",
    "- [Sigmoid](https://en.wikipedia.org/wiki/Sigmoid_function): defined below as `sigmoid()`. It \"wraps\" the last layer's output and returns an action log probability in the (0, 1) range.\n",
    "\n",
    "**4.** Define the sigmoid function separately with NumPy's [`np.exp()`](https://numpy.org/doc/stable/reference/generated/numpy.exp.html?highlight=numpy.exp#numpy.exp) for computing exponentials:"
   ]
  },
  {
   "cell_type": "code",
   "execution_count": 17,
   "id": "8f8f75c9",
   "metadata": {},
   "outputs": [],
   "source": [
    "def sigmoid(x):\n",
    "    return 1.0 / (1.0 + np.exp(-x))"
   ]
  },
  {
   "cell_type": "markdown",
   "id": "455d9f87",
   "metadata": {},
   "source": [
    "## Set up the update step (backpropagation)\n",
    "\n",
    "During learning in your deep RL algorithm, you use the action log probabilities (given an observation) and the discounted returns (for example, +1 or -1 in Pong) and perform the _backward pass_ or _backpropagation_ to update the parameters — the policy network's weights.\n",
    "\n",
    "**1.** Let's define the backward pass function (`policy_backward()`) with the help of NumPy's modules for array multiplication — [`np.dot()`](https://numpy.org/doc/stable/reference/generated/numpy.dot.html?highlight=numpy.dot#numpy.dot) (matrix multiplication), [`np.outer()`](https://numpy.org/doc/stable/reference/generated/numpy.outer.html) (outer product computation), and [`np.ravel()`](https://numpy.org/doc/stable/reference/generated/numpy.ravel.html) (to flatten arrays into 1D arrays):"
   ]
  },
  {
   "cell_type": "code",
   "execution_count": 18,
   "id": "29cf0066",
   "metadata": {},
   "outputs": [],
   "source": [
    "def policy_backward(eph, epdlogp, model):\n",
    "    dW2 = np.dot(eph.T, epdlogp).ravel()\n",
    "    dh = np.outer(epdlogp, model[\"W2\"])\n",
    "    dh[eph <= 0] = 0\n",
    "    dW1 = np.dot(dh.T, epx)\n",
    "    # Return new \"optimized\" weights for the policy network.\n",
    "    return {\"W1\": dW1, \"W2\": dW2}"
   ]
  },
  {
   "cell_type": "markdown",
   "id": "bbbc17e6",
   "metadata": {},
   "source": [
    "Using the intermediate hidden \"states\" of the network (`eph`) and the gradients of action log probabilities (`epdlogp`) for an episode, the `policy_backward` function propagates the gradients back through the policy network and update the weights.\n",
    "\n",
    "**2.** When applying backpropagation during agent training, you will need to save several variables for each episode. Let's instantiate empty lists to store them:"
   ]
  },
  {
   "cell_type": "code",
   "execution_count": 19,
   "id": "a8efdddf",
   "metadata": {},
   "outputs": [],
   "source": [
    "# All preprocessed observations for the episode.\n",
    "xs = []\n",
    "# All hidden \"states\" (from the network) for the episode.\n",
    "hs = []\n",
    "# All gradients of probability actions\n",
    "# (with respect to observations) for the episode.\n",
    "dlogps = []\n",
    "# All rewards for the episode.\n",
    "drs = []"
   ]
  },
  {
   "cell_type": "markdown",
   "id": "be8d64aa",
   "metadata": {},
   "source": [
    "You will reset these variables manually at the end of each episode during training after they are \"full\" and reshape with NumPy's [`np.vstack()`](https://numpy.org/doc/stable/reference/generated/numpy.vstack.html). This is demonstrated in the training stage towards the end of the tutorial.\n",
    "\n",
    "**3.** Next, to perform a gradient ascent when optimizing the agent's policy, it is common to use deep learning _optimizers_ (you're performing optimization with gradients). In this example, you'll use [RMSProp](https://en.wikipedia.org/wiki/Stochastic_gradient_descent#RMSProp) — an adaptive optimization [method](http://www.cs.toronto.edu/~tijmen/csc321/slides/lecture_slides_lec6.pdf). Let's set a discounting factor — a decay rate — for the optimizer:"
   ]
  },
  {
   "cell_type": "code",
   "execution_count": 20,
   "id": "21e93c69",
   "metadata": {},
   "outputs": [],
   "source": [
    "decay_rate = 0.99"
   ]
  },
  {
   "cell_type": "markdown",
   "id": "b14fc11e",
   "metadata": {},
   "source": [
    "**4.** You will also need to store the gradients (with the help of NumPy's [`np.zeros_like()`](https://numpy.org/doc/stable/reference/generated/numpy.zeros_like.html)) for the optimization step during training:\n",
    "\n",
    "- First, save the update buffers that add up gradients over a batch:"
   ]
  },
  {
   "cell_type": "code",
   "execution_count": 21,
   "id": "49e004d9",
   "metadata": {},
   "outputs": [],
   "source": [
    "grad_buffer = {k: np.zeros_like(v) for k, v in model.items()}"
   ]
  },
  {
   "cell_type": "markdown",
   "id": "d59855d9",
   "metadata": {},
   "source": [
    "- Second, store the RMSProp memory for the optimizer for gradient ascent:"
   ]
  },
  {
   "cell_type": "code",
   "execution_count": 22,
   "id": "811ab6d3",
   "metadata": {},
   "outputs": [],
   "source": [
    "rmsprop_cache = {k: np.zeros_like(v) for k, v in model.items()}"
   ]
  },
  {
   "cell_type": "markdown",
   "id": "95a6c05c",
   "metadata": {},
   "source": [
    "## Define the discounted rewards (expected return) function\n",
    "\n",
    "In this section, you will set up a function for computing discounted rewards (`discount_rewards()`) — the expected return from an observation — that uses a 1D array of rewards as inputs (with the help of NumPy's [`np.zeros_like()`](https://numpy.org/doc/stable/reference/generated/numpy.zeros_like.html)) function.\n",
    "\n",
    "To provide more weight to shorter-term rewards over longer-term ones, you will use a _discount factor_ (gamma) that is often a floating-point number between 0.9 and 0.99."
   ]
  },
  {
   "cell_type": "code",
   "execution_count": 23,
   "id": "88c7770a",
   "metadata": {},
   "outputs": [],
   "source": [
    "gamma = 0.99\n",
    "\n",
    "\n",
    "def discount_rewards(r, gamma):\n",
    "    discounted_r = np.zeros_like(r)\n",
    "    running_add = 0\n",
    "    # From the last reward to the first...\n",
    "    for t in reversed(range(0, r.size)):\n",
    "        # ...reset the reward sum\n",
    "        if r[t] != 0:\n",
    "            running_add = 0\n",
    "        # ...compute the discounted reward\n",
    "        running_add = running_add * gamma + r[t]\n",
    "        discounted_r[t] = running_add\n",
    "    return discounted_r"
   ]
  },
  {
   "cell_type": "markdown",
   "id": "82522499",
   "metadata": {},
   "source": [
    "## Train the agent for a number of episodes\n",
    "\n",
    "This section covers how to set up the training process during which your agent will be learning to play Pong using its policy.\n",
    "\n",
    "The pseudocode for the policy gradient method for Pong:\n",
    "\n",
    "- Instantiate the policy — your neural network — and randomly initialize the weights in the policy network.\n",
    "- Initialize a random observation.\n",
    "- Randomly initialize the weights in the policy network.\n",
    "- Repeat over a number of episodes:\n",
    "\n",
    "    - Input an observation into the policy network and output action probabilities for the agent (forward propagation).\n",
    "    - The agent takes an action for each observation, observes the received rewards and collects trajectories (over a predefined number of episodes or batch size) of state-action experiences.\n",
    "    - Compute the [cross-entropy](https://en.wikipedia.org/wiki/Cross_entropy#Cross-entropy_loss_function_and_logistic_regression) (with a positive sign, since you need to maximize the rewards and not minimize the loss).\n",
    "    - For every batch of episodes:\n",
    "\n",
    "        - Calculate the gradients of your action log probabilities using the cross-entropy.\n",
    "        - Compute the cumulative return and, to provide more weight to shorter-term rewards versus the longer-term ones, use a discount factor discount.\n",
    "        - Multiply the gradients of the action log probabilities by the discounted rewards (the \"advantage\").\n",
    "        - Perform gradient ascent (backpropagation) to optimize the policy network's parameters (its weights).\n",
    "\n",
    "            - Maximize the probability of actions that lead to high rewards.\n",
    "\n",
    "![Diagram showing operations detailed in this tutorial](_static/tutorial-deep-reinforcement-learning-with-pong-from-pixels.png)\n",
    "\n",
    "You can stop the training at any time or/and check saved MP4 videos of saved plays on your disk in the `/video` directory. You can set the maximum number of episodes that is more appropriate for your setup.\n",
    "\n",
    "**1.** For demo purposes, let's limit the number of episodes for training to 3. If you are using hardware acceleration (CPUs and GPUs), you can increase the number to 1,000 or beyond. For comparison, Andrej Karpathy's original experiment took about 8,000 episodes."
   ]
  },
  {
   "cell_type": "code",
   "execution_count": 24,
   "id": "072ce6f6",
   "metadata": {},
   "outputs": [],
   "source": [
    "max_episodes = 3"
   ]
  },
  {
   "cell_type": "markdown",
   "id": "fc299da6",
   "metadata": {},
   "source": [
    "**2.** Set the batch size and the learning rate values:\n",
    "- The _batch size_ dictates how often (in episodes) the model performs a parameter update. It is the number of times your agent can collect the state-action trajectories. At the end of the collection, you can perform the maximization of action-probability multiples.\n",
    "- The [_learning rate_](https://en.wikipedia.org/wiki/Learning_rate) helps limit the magnitude of weight updates to prevent them from overcorrecting."
   ]
  },
  {
   "cell_type": "code",
   "execution_count": 25,
   "id": "29361fac",
   "metadata": {},
   "outputs": [],
   "source": [
    "batch_size = 3\n",
    "learning_rate = 1e-4"
   ]
  },
  {
   "cell_type": "markdown",
   "id": "28bb4042",
   "metadata": {},
   "source": [
    "**3.** Set the game rendering default variable for Gym's `render` method (it is used to display the observation and is optional but can be useful during debugging):"
   ]
  },
  {
   "cell_type": "code",
   "execution_count": 26,
   "id": "c7f0ac73",
   "metadata": {},
   "outputs": [],
   "source": [
    "render = False"
   ]
  },
  {
   "cell_type": "markdown",
   "id": "e21cc746",
   "metadata": {},
   "source": [
    "**4.** Set the agent's initial (random) observation by calling `reset()`:"
   ]
  },
  {
   "cell_type": "code",
   "execution_count": 27,
   "id": "eed4d0f6",
   "metadata": {},
   "outputs": [],
   "source": [
    "observation = env.reset()"
   ]
  },
  {
   "cell_type": "markdown",
   "id": "79250853",
   "metadata": {},
   "source": [
    "**5.** Initialize the previous observation:"
   ]
  },
  {
   "cell_type": "code",
   "execution_count": 28,
   "id": "f7fd273f",
   "metadata": {},
   "outputs": [],
   "source": [
    "prev_x = None"
   ]
  },
  {
   "cell_type": "markdown",
   "id": "9a23cdf6",
   "metadata": {},
   "source": [
    "**6.** Initialize the reward variables and the episode count:"
   ]
  },
  {
   "cell_type": "code",
   "execution_count": 29,
   "id": "67bbf3bc",
   "metadata": {},
   "outputs": [],
   "source": [
    "running_reward = None\n",
    "reward_sum = 0\n",
    "episode_number = 0"
   ]
  },
  {
   "cell_type": "markdown",
   "id": "3b67cc05",
   "metadata": {},
   "source": [
    "**7.** To simulate motion between the frames, set the single input frame (`x`) for the policy network as the difference between the current and previous preprocessed frames:"
   ]
  },
  {
   "cell_type": "code",
   "execution_count": 30,
   "id": "b58210b4",
   "metadata": {},
   "outputs": [],
   "source": [
    "def update_input(prev_x, cur_x, D):\n",
    "    if prev_x is not None:\n",
    "        x = cur_x - prev_x\n",
    "    else:\n",
    "        x = np.zeros(D)\n",
    "    return x"
   ]
  },
  {
   "cell_type": "markdown",
   "id": "9f2aee5f",
   "metadata": {},
   "source": [
    "**8.** Finally, start the training loop, using the functions you have predefined:"
   ]
  },
  {
   "cell_type": "code",
   "execution_count": 31,
   "id": "ccc9e8c7",
   "metadata": {
    "tags": [
     "output_scroll"
    ]
   },
   "outputs": [
    {
     "name": "stdout",
     "output_type": "stream",
     "text": [
      "Episode 0: Game finished. Reward: -1.0...\n",
      "Episode 0: Game finished. Reward: -1.0...\n"
     ]
    },
    {
     "name": "stdout",
     "output_type": "stream",
     "text": [
      "Episode 0: Game finished. Reward: -1.0...\n",
      "Episode 0: Game finished. Reward: -1.0...\n"
     ]
    },
    {
     "name": "stdout",
     "output_type": "stream",
     "text": [
      "Episode 0: Game finished. Reward: -1.0...\n",
      "Episode 0: Game finished. Reward: -1.0...\n",
      "Episode 0: Game finished. Reward: -1.0...\n"
     ]
    },
    {
     "name": "stdout",
     "output_type": "stream",
     "text": [
      "Episode 0: Game finished. Reward: -1.0...\n",
      "Episode 0: Game finished. Reward: -1.0...\n",
      "Episode 0: Game finished. Reward: -1.0...\n"
     ]
    },
    {
     "name": "stdout",
     "output_type": "stream",
     "text": [
      "Episode 0: Game finished. Reward: -1.0...\n",
      "Episode 0: Game finished. Reward: -1.0...\n",
      "Episode 0: Game finished. Reward: -1.0...\n"
     ]
    },
    {
     "name": "stdout",
     "output_type": "stream",
     "text": [
      "Episode 0: Game finished. Reward: -1.0...\n",
      "Episode 0: Game finished. Reward: -1.0...\n",
      "Episode 0: Game finished. Reward: -1.0...\n"
     ]
    },
    {
     "name": "stdout",
     "output_type": "stream",
     "text": [
      "Episode 0: Game finished. Reward: -1.0...\n",
      "Episode 0: Game finished. Reward: -1.0...\n",
      "Episode 0: Game finished. Reward: -1.0...\n"
     ]
    },
    {
     "name": "stdout",
     "output_type": "stream",
     "text": [
      "Episode 0: Game finished. Reward: -1.0...\n",
      "Resetting the Pong environment. Episode total reward: -21.0 Running mean: -21.0\n",
      "Episode 1: Game finished. Reward: -1.0...\n"
     ]
    },
    {
     "name": "stdout",
     "output_type": "stream",
     "text": [
      "Episode 1: Game finished. Reward: -1.0...\n",
      "Episode 1: Game finished. Reward: -1.0...\n",
      "Episode 1: Game finished. Reward: -1.0...\n"
     ]
    },
    {
     "name": "stdout",
     "output_type": "stream",
     "text": [
      "Episode 1: Game finished. Reward: -1.0...\n",
      "Episode 1: Game finished. Reward: -1.0...\n",
      "Episode 1: Game finished. Reward: -1.0...\n",
      "Episode 1: Game finished. Reward: -1.0...\n"
     ]
    },
    {
     "name": "stdout",
     "output_type": "stream",
     "text": [
      "Episode 1: Game finished. Reward: -1.0...\n",
      "Episode 1: Game finished. Reward: -1.0...\n"
     ]
    },
    {
     "name": "stdout",
     "output_type": "stream",
     "text": [
      "Episode 1: Game finished. Reward: -1.0...\n",
      "Episode 1: Game finished. Reward: -1.0...\n",
      "Episode 1: Game finished. Reward: -1.0...\n",
      "Episode 1: Game finished. Reward: -1.0...\n"
     ]
    },
    {
     "name": "stdout",
     "output_type": "stream",
     "text": [
      "Episode 1: Game finished. Reward: -1.0...\n",
      "Episode 1: Game finished. Reward: -1.0...\n"
     ]
    },
    {
     "name": "stdout",
     "output_type": "stream",
     "text": [
      "Episode 1: Game finished. Reward: -1.0...\n",
      "Episode 1: Game finished. Reward: -1.0...\n",
      "Episode 1: Game finished. Reward: -1.0...\n",
      "Episode 1: Game finished. Reward: -1.0...\n"
     ]
    },
    {
     "name": "stdout",
     "output_type": "stream",
     "text": [
      "Episode 1: Game finished. Reward: -1.0...\n",
      "Resetting the Pong environment. Episode total reward: -21.0 Running mean: -21.0\n",
      "Episode 2: Game finished. Reward: -1.0...\n"
     ]
    },
    {
     "name": "stdout",
     "output_type": "stream",
     "text": [
      "Episode 2: Game finished. Reward: -1.0...\n",
      "Episode 2: Game finished. Reward: -1.0...\n",
      "Episode 2: Game finished. Reward: -1.0...\n",
      "Episode 2: Game finished. Reward: -1.0...\n"
     ]
    },
    {
     "name": "stdout",
     "output_type": "stream",
     "text": [
      "Episode 2: Game finished. Reward: -1.0...\n",
      "Episode 2: Game finished. Reward: -1.0...\n",
      "Episode 2: Game finished. Reward: -1.0...\n"
     ]
    },
    {
     "name": "stdout",
     "output_type": "stream",
     "text": [
      "Episode 2: Game finished. Reward: -1.0...\n",
      "Episode 2: Game finished. Reward: -1.0...\n"
     ]
    },
    {
     "name": "stdout",
     "output_type": "stream",
     "text": [
      "Episode 2: Game finished. Reward: -1.0...\n",
      "Episode 2: Game finished. Reward: -1.0...\n"
     ]
    },
    {
     "name": "stdout",
     "output_type": "stream",
     "text": [
      "Episode 2: Game finished. Reward: 1.0... POSITIVE REWARD!\n"
     ]
    },
    {
     "name": "stdout",
     "output_type": "stream",
     "text": [
      "Episode 2: Game finished. Reward: -1.0...\n",
      "Episode 2: Game finished. Reward: -1.0...\n",
      "Episode 2: Game finished. Reward: -1.0...\n",
      "Episode 2: Game finished. Reward: -1.0...\n"
     ]
    },
    {
     "name": "stdout",
     "output_type": "stream",
     "text": [
      "Episode 2: Game finished. Reward: -1.0...\n",
      "Episode 2: Game finished. Reward: -1.0...\n",
      "Episode 2: Game finished. Reward: -1.0...\n",
      "Episode 2: Game finished. Reward: -1.0...\n"
     ]
    },
    {
     "name": "stdout",
     "output_type": "stream",
     "text": [
      "Episode 2: Game finished. Reward: -1.0...\n"
     ]
    },
    {
     "name": "stdout",
     "output_type": "stream",
     "text": [
      "Resetting the Pong environment. Episode total reward: -20.0 Running mean: -20.99\n",
      "Episode 3: Game finished. Reward: -1.0...\n"
     ]
    }
   ],
   "source": [
    "while episode_number < max_episodes:\n",
    "    # (For rendering.)\n",
    "    if render:\n",
    "        env.render()\n",
    "\n",
    "    # 1. Preprocess the observation (a game frame) and flatten with NumPy's `ravel()`.\n",
    "    cur_x = frame_preprocessing(observation).ravel()\n",
    "\n",
    "    # 2. Instantiate the observation for the policy network\n",
    "    x = update_input(prev_x, cur_x, D)\n",
    "    prev_x = cur_x\n",
    "\n",
    "    # 3. Perform the forward pass through the policy network using the observations\n",
    "    # (preprocessed frames as inputs) and store the action log probabilities\n",
    "    # and hidden \"states\" (for backpropagation) during the course of each episode.\n",
    "    aprob, h = policy_forward(x, model)\n",
    "    # 4. Let the action indexed at `2` (\"move up\") be that probability\n",
    "    # if it's higher than a randomly sampled value\n",
    "    # or use action `3` (\"move down\") otherwise.\n",
    "    action = 2 if rng.uniform() < aprob else 3\n",
    "\n",
    "    # 5. Cache the observations and hidden \"states\" (from the network)\n",
    "    # in separate variables for backpropagation.\n",
    "    xs.append(x)\n",
    "    hs.append(h)\n",
    "\n",
    "    # 6. Compute the gradients of action log probabilities:\n",
    "    # - If the action was to \"move up\" (index `2`):\n",
    "    y = 1 if action == 2 else 0\n",
    "    # - The cross-entropy:\n",
    "    # `y*log(aprob) + (1 - y)*log(1-aprob)`\n",
    "    # or `log(aprob)` if y = 1, else: `log(1 - aprob)`.\n",
    "    # (Recall: you used the sigmoid function (`1/(1+np.exp(-x)`) to output\n",
    "    # `aprob` action probabilities.)\n",
    "    # - Then the gradient: `y - aprob`.\n",
    "    # 7. Append the gradients of your action log probabilities.\n",
    "    dlogps.append(y - aprob)\n",
    "    # 8. Take an action and update the parameters with Gym's `step()`\n",
    "    # function; obtain a new observation.\n",
    "    observation, reward, done, info = env.step(action)\n",
    "    # 9. Update the total sum of rewards.\n",
    "    reward_sum += reward\n",
    "    # 10. Append the reward for the previous action.\n",
    "    drs.append(reward)\n",
    "\n",
    "    # After an episode is finished:\n",
    "    if done:\n",
    "        episode_number += 1\n",
    "        # 11. Collect and reshape stored values with `np.vstack()` of:\n",
    "        # - Observation frames (inputs),\n",
    "        epx = np.vstack(xs)\n",
    "        # - hidden \"states\" (from the network),\n",
    "        eph = np.vstack(hs)\n",
    "        # - gradients of action log probabilities,\n",
    "        epdlogp = np.vstack(dlogps)\n",
    "        # - and received rewards for the past episode.\n",
    "        epr = np.vstack(drs)\n",
    "\n",
    "        # 12. Reset the stored variables for the new episode:\n",
    "        xs = []\n",
    "        hs = []\n",
    "        dlogps = []\n",
    "        drs = []\n",
    "\n",
    "        # 13. Discount the rewards for the past episode using the helper\n",
    "        # function you defined earlier...\n",
    "        discounted_epr = discount_rewards(epr, gamma)\n",
    "        # ...and normalize them because they have high variance\n",
    "        # (this is explained below.)\n",
    "        discounted_epr -= np.mean(discounted_epr)\n",
    "        discounted_epr /= np.std(discounted_epr)\n",
    "\n",
    "        # 14. Multiply the discounted rewards by the gradients of the action\n",
    "        # log probabilities (the \"advantage\").\n",
    "        epdlogp *= discounted_epr\n",
    "        # 15. Use the gradients to perform backpropagation and gradient ascent.\n",
    "        grad = policy_backward(eph, epdlogp, model)\n",
    "        # 16. Save the policy gradients in a buffer.\n",
    "        for k in model:\n",
    "            grad_buffer[k] += grad[k]\n",
    "        # 17. Use the RMSProp optimizer to perform the policy network\n",
    "        # parameter (weight) update at every batch size\n",
    "        # (by default: every 10 episodes).\n",
    "        if episode_number % batch_size == 0:\n",
    "            for k, v in model.items():\n",
    "                # The gradient.\n",
    "                g = grad_buffer[k]\n",
    "                # Use the RMSProp discounting factor.\n",
    "                rmsprop_cache[k] = (\n",
    "                    decay_rate * rmsprop_cache[k] + (1 - decay_rate) * g ** 2\n",
    "                )\n",
    "                # Update the policy network with a learning rate\n",
    "                # and the RMSProp optimizer using gradient ascent\n",
    "                # (hence, there's no negative sign)\n",
    "                model[k] += learning_rate * g / (np.sqrt(rmsprop_cache[k]) + 1e-5)\n",
    "                # Reset the gradient buffer at the end.\n",
    "                grad_buffer[k] = np.zeros_like(v)\n",
    "\n",
    "        # 18. Measure the total discounted reward.\n",
    "        running_reward = (\n",
    "            reward_sum\n",
    "            if running_reward is None\n",
    "            else running_reward * 0.99 + reward_sum * 0.01\n",
    "        )\n",
    "        print(\n",
    "            \"Resetting the Pong environment. Episode total reward: {} Running mean: {}\".format(\n",
    "                reward_sum, running_reward\n",
    "            )\n",
    "        )\n",
    "\n",
    "        # 19. Set the agent's initial observation by calling Gym's `reset()` function\n",
    "        # for the next episode and setting the reward sum back to 0.\n",
    "        reward_sum = 0\n",
    "        observation = env.reset()\n",
    "        prev_x = None\n",
    "\n",
    "    # 20. Display the output during training.\n",
    "    if reward != 0:\n",
    "        print(\n",
    "            \"Episode {}: Game finished. Reward: {}...\".format(episode_number, reward)\n",
    "            + (\"\" if reward == -1 else \" POSITIVE REWARD!\")\n",
    "        )"
   ]
  },
  {
   "cell_type": "markdown",
   "id": "ad15a370",
   "metadata": {},
   "source": [
    "A few notes:\n",
    "\n",
    "- If you have previously run an experiment and want to repeat it, your `Monitor` instance may still be running, which may throw an error the next time you try to traini the agent. Therefore, you should first shut down `Monitor` by calling `env.close()` by uncommenting and running the cell below:"
   ]
  },
  {
   "cell_type": "code",
   "execution_count": 32,
   "id": "7bb08dc7",
   "metadata": {},
   "outputs": [],
   "source": [
    "# env.close()"
   ]
  },
  {
   "cell_type": "markdown",
   "id": "ab5537ef",
   "metadata": {},
   "source": [
    "- In Pong, if a player doesn't hit the ball back, they receive a negative reward (-1) and the other player gets a +1 reward. The rewards that the agent receives by playing Pong have a significant variance. Therefore, it's best practice to normalize them with the same mean (using [`np.mean()`](https://numpy.org/doc/stable/reference/generated/numpy.mean.html)) and standard deviation (using NumPy's [`np.std()`](https://numpy.org/doc/stable/reference/generated/numpy.std.html?highlight=std)).\n",
    "\n",
    "- When using only NumPy, the deep RL training process, including backpropagation, spans several lines of code that may appear quite long. One of the main reasons for this is you're not using a deep learning framework with an automatic differentiation library that usually simplifies such experiments. This tutorial shows how to perform everything from scratch but you can also use one of many Python-based frameworks with \"autodiff\" and \"autograd\", which you will learn about at the end of the tutorial.\n",
    "\n",
    "## Next steps\n",
    "\n",
    "You may notice that training an RL agent takes a long time if you increase the number of episodes from 100 to 500 or 1,000+, depending on the hardware — CPUs and GPUs — you are using for this task.\n",
    "\n",
    "Policy gradient methods can learn a task if you give them a lot of time, and optimization in RL is a challenging problem. Training agents to learn to play Pong or any other task can be sample-inefficient and require a lot of episodes. You may also notice in your training output that even after hundreds of episodes, the rewards may have high variance.\n",
    "\n",
    "In addition, like in many deep learning-based algorithms, you should take into account a large amount of parameters that your policy has to learn. In Pong, this number adds up to 1 million or more with 200 nodes in the hidden layer of the network and the input dimension being of size 6,400 (80x80). Therefore, adding more CPUs and GPUs to assist with training can always be an option.\n",
    "\n",
    "You can use a much more advanced policy gradient-based algorithm that can help speed up training, improve the sensitivity to parameters, and resolve other issues. For example, there are \"self-play\" methods, such as [Proximal Policy Optimization (PPO)](https://arxiv.org/pdf/1707.06347) developed by [John Schulman](http://joschu.net) et al in 2017, which were [used](https://openai.com/blog/openai-five/#rapid) to train the [OpenAI Five](https://arxiv.org/pdf/1912.06680.pdf) agent over 10 months to play Dota 2 at a competitive level. Of course, if you apply these methods to smaller Gym environments, it should take hours, not months to train.\n",
    "\n",
    "In general, there are many RL challenges and possible solutions and you can explore some of them in [Reinforcement learning, fast and slow](https://static1.squarespace.com/static/555aab07e4b03e184ddaf731/t/5f5245cb100273193b14548a/1599227416572/TICS__RL_Fast_and_Slow_accepted.pdf) by [Matthew Botvinick](https://hai.stanford.edu/people/matthew-botvinick), Sam Ritter, [Jane X. Wang](http://www.janexwang.com), Zeb Kurth-Nelson, [Charles Blundell](http://www.gatsby.ucl.ac.uk/~ucgtcbl/), and [Demis Hassabis](https://en.wikipedia.org/wiki/Demis_Hassabis) (2019).\n",
    "\n",
    "---\n",
    "\n",
    "If you want to learn more about deep RL, you should check out the following free educational material:\n",
    "\n",
    "- [Spinning Up in Deep RL](https://openai.com/blog/spinning-up-in-deep-rl/): developed by OpenAI.\n",
    "- Deep RL lectures taught by practitioners at [DeepMind](https://www.youtube.com/c/DeepMind/videos) and [UC Berkeley](https://www.youtube.com/channel/UC4e_-TvgALrwE1dUPvF_UTQ/videos).\n",
    "- RL [lectures](https://www.davidsilver.uk/teaching/) taught by [David Silver](https://www.davidsilver.uk) (DeepMind, UCL).\n",
    "\n",
    "Building a neural network from scratch with NumPy is a great way to learn more about NumPy and about deep learning. However, for real-world applications you should use specialized frameworks — such as [PyTorch](https://pytorch.org/), [JAX](https://github.com/google/jax), [TensorFlow](https://www.tensorflow.org/guide/tf_numpy) or [MXNet](https://mxnet.apache.org) — that provide NumPy-like APIs, have built-in [automatic differentiation](https://en.wikipedia.org/wiki/Automatic_differentiation) and GPU support, and are designed for high-performance numerical computing and machine learning.\n",
    "\n",
    "\n",
    "## Appendix\n",
    "\n",
    "### Notes on RL and deep RL\n",
    "\n",
    "- In [supervised](https://en.wikipedia.org/wiki/Supervised_learning) deep learning for tasks, such as image recognition, language translation, or text classification, you're more likely to use a lot of labeled data. However, in RL, agents typically don't receive direct explicit feedback indicating correct or wrong actions — they rely on other signals, such as rewards.\n",
    "\n",
    "- _Deep RL_ combines RL with [deep learning](http://www.cs.toronto.edu/~hinton/absps/NatureDeepReview.pdf). The field had its first major success in more complex environments, such as video games, in 2013 — a year after the [AlexNet](https://papers.nips.cc/paper/4824-imagenet-classification-with-deep-convolutional-neural-networks.pdf) breakthrough in computer vision. Volodymyr Mnih and colleagues at DeepMind published a research paper called [Playing Atari with deep reinforcement learning](https://arxiv.org/abs/1312.5602) (and [updated](https://web.stanford.edu/class/psych209/Readings/MnihEtAlHassibis15NatureControlDeepRL.pdf) in 2015) that showed that they were able to train an agent that could play several classic games from the Arcade Learning Environment at a human-level. Their RL algorithm — called a deep Q-network (DQN) — used [convolutional layers](https://en.wikipedia.org/wiki/Convolutional_neural_network) in a neural network that approximated [Q learning](https://en.wikipedia.org/wiki/Q-learning) and used [experience replay](https://web.stanford.edu/class/psych209/Readings/MnihEtAlHassibis15NatureControlDeepRL.pdf).\n",
    "\n",
    "- Unlike the simple policy gradient method that you used in this example, DQN uses a type of \"off-policy\" _value-based_ method (that approximates Q learning), while the original [AlphaGo](https://www.nature.com/articles/nature24270.epdf?author_access_token=VJXbVjaSHxFoctQQ4p2k4tRgN0jAjWel9jnR3ZoTv0PVW4gB86EEpGqTRDtpIz-2rmo8-KG06gqVobU5NSCFeHILHcVFUeMsbvwS-lxjqQGg98faovwjxeTUgZAUMnRQ) uses policy gradients and [Monte Carlo tree search](https://en.wikipedia.org/wiki/Monte_Carlo_tree_search).\n",
    "\n",
    "- Policy gradients _with function approximation_, such as neural networks, were [written about](https://papers.nips.cc/paper/1713-policy-gradient-methods-for-reinforcement-learning-with-function-approximation.pdf) in 2000 by Richard Sutton et al. They were influenced by a number of previous works, including statistical gradient-following algorithms, such as [REINFORCE](https://www.semanticscholar.org/paper/Simple-statistical-gradient-following-algorithms-Williams/4c915c1eecb217c123a36dc6d3ce52d12c742614) (Ronald Williams, 1992), as well as [backpropagation](http://www.cs.toronto.edu/~hinton/absps/naturebp.pdf) (Geoffrey Hinton, 1986), which helps deep learning algorithms learn. RL with neural-network function approximation were introduced in the 1990s in research by Gerald Tesauro ([Temporal difference learning and td-gammon](https://dl.acm.org/doi/10.1145/203330.203343), 1995), who worked with IBM on an agent that learned to [play backgammon](https://en.wikipedia.org/wiki/TD-Gammon) in 1992, and Long-Ji Lin ([Reinforcement learning for robots using neural networks](https://dl.acm.org/doi/book/10.5555/168871), 1993).\n",
    "\n",
    "- Since 2013, researchers have come up with many notable approaches for learning to solve complex tasks using deep RL, such as [AlphaGo](https://www.nature.com/articles/nature24270.epdf?author_access_token=VJXbVjaSHxFoctQQ4p2k4tRgN0jAjWel9jnR3ZoTv0PVW4gB86EEpGqTRDtpIz-2rmo8-KG06gqVobU5NSCFeHILHcVFUeMsbvwS-lxjqQGg98faovwjxeTUgZAUMnRQ) for the game of Go (David Silver et al, 2016), [AlphaZero](http://science.sciencemag.org/cgi/content/full/362/6419/1140?ijkey=XGd77kI6W4rSc&keytype=ref&siteid=sci) that mastered Go, Chess, and Shogi with self-play (David Silver et al, 2017-2018), [OpenAI Five](https://arxiv.org/pdf/1912.06680.pdf) for Dota 2 with [self-play](https://openai.com/blog/competitive-self-play/) (OpenAI, 2019), and [AlphaStar](https://deepmind.com/blog/alphastar-mastering-real-time-strategy-game-starcraft-ii/) for StarCraft 2 that used an [actor-critic](https://arxiv.org/pdf/1802.01561.pdf) algorithm with [experience replay](https://link.springer.com/content/pdf/10.1023%2FA%3A1022628806385.pdf), [self-imitation learning](http://proceedings.mlr.press/v80/oh18b/oh18b.pdf), and [policy distillation](https://arxiv.org/pdf/1511.06295.pdf) (Oriol Vinyals et al, 2019). In addition, there have been other experiments, such as deep RL for [Battlefield 1](https://www.ea.com/seed/news/self-learning-agents-play-bf1) by engineers at Electronic Arts/DICE.\n",
    "\n",
    "- One of the reasons why video games are popular in deep RL research is that, unlike real-world experiments, such as RL with [remote-controlled helicopters](http://heli.stanford.edu/papers/nips06-aerobatichelicopter.pdf) ([Pieter Abbeel](https://www2.eecs.berkeley.edu/Faculty/Homepages/abbeel.html)  et al, 2006), virtual simulations can offer safer testing environments.\n",
    "\n",
    "- If you're interested in learning about the implications of deep RL on other fields, such as neuroscience, you can refer to a [paper](https://arxiv.org/pdf/2007.03750.pdf) by [Matthew Botvinick](https://www.youtube.com/watch?v=b0LddBiF5jM) et al (2020).\n",
    "\n",
    "### How to set up video playback in your Jupyter notebook\n",
    "\n",
    "- If you're using [**Binder**](https://mybinder.org) — a free Jupyter notebook-based tool — you can set up the Docker image and add `freeglut3-dev`, `xvfb`, and `x11-utils` to the `apt.txt` configuration file to install the initial dependencies. Then, to `binder/environment.yml` under `channels`, add `gym`, `pyvirtualdisplay` and anything else you may need, such as `python=3.7`, `pip`, and `jupyterlab`. Check the following [post](https://towardsdatascience.com/rendering-openai-gym-envs-on-binder-and-google-colab-536f99391cc7) for more information.\n",
    "\n",
    "- If you're using [**Google Colaboratory**](https://colab.research.google.com/notebooks/intro.ipynb) (another free Jupyter notebook-based tool), you can enable video playback of the game environments installing and setting up [X virtual frame buffer](https://en.wikipedia.org/wiki/Xvfb)/[Xvfb](https://www.x.org/releases/X11R7.6/doc/man/man1/Xvfb.1.xhtml), [X11](https://en.wikipedia.org/wiki/X_Window_System), [FFmpeg](https://ffmpeg.org), [PyVirtualDisplay](https://github.com/ponty/PyVirtualDisplay), [PyOpenGL](http://pyopengl.sourceforge.net), and other dependencies, as described further below.\n",
    "\n",
    "1. If you're using Google Colaboratory, run the following commands in the notebook cells to help with video playback:\n",
    "\n",
    "    ```shell\n",
    "    # Install Xvfb and X11 dependencies.\n",
    "    !apt-get install -y xvfb x11-utils > /dev/null 2>&1\n",
    "    # To work with videos, install FFmpeg.\n",
    "    !apt-get install -y ffmpeg > /dev/null 2>&1\n",
    "    # Install PyVirtualDisplay for visual feedback and other libraries/dependencies.\n",
    "    !pip install pyvirtualdisplay PyOpenGL PyOpenGL-accelerate > /dev/null 2>&1\n",
    "    ```\n",
    "\n",
    "2. Then, add this Python code:\n",
    "\n",
    "    ```\n",
    "    # Import the virtual display module.\n",
    "    from pyvirtualdisplay import Display\n",
    "    # Import ipythondisplay and HTML from IPython for image and video rendering.\n",
    "    from IPython import display as ipythondisplay\n",
    "    from IPython.display import HTML\n",
    "\n",
    "    # Initialize the virtual buffer at 400x300 (adjustable size).\n",
    "    # With Xvfb, you should set `visible=False`.\n",
    "    display = Display(visible=False, size=(400, 300))\n",
    "    display.start()\n",
    "\n",
    "    # Check that no display is present.\n",
    "    # If no displays are present, the expected output is `:0`.\n",
    "    !echo $DISPLAY\n",
    "\n",
    "    # Define a helper function to display videos in Jupyter notebooks:.\n",
    "    # (Source: https://star-ai.github.io/Rendering-OpenAi-Gym-in-Colaboratory/)\n",
    "\n",
    "    import sys\n",
    "    import math\n",
    "    import glob\n",
    "    import io\n",
    "    import base64\n",
    "\n",
    "    def show_any_video(mp4video=0):\n",
    "        mp4list = glob.glob('video/*.mp4')\n",
    "        if len(mp4list) > 0:\n",
    "            mp4 = mp4list[mp4video]\n",
    "            video = io.open(mp4, 'r+b').read()\n",
    "            encoded = base64.b64encode(video)\n",
    "            ipythondisplay.display(HTML(data='''<video alt=\"test\" autoplay\n",
    "                                                loop controls style=\"height: 400px;\">\n",
    "                                                <source src=\"data:video/mp4;base64,{0}\" type=\"video/mp4\" />\n",
    "                                                </video>'''.format(encoded.decode('ascii'))))\n",
    "\n",
    "        else:\n",
    "            print('Could not find the video!')\n",
    "\n",
    "    ```\n",
    "\n",
    "- If you want to view the last (very quick) gameplay inside a Jupyter notebook and implemented the `show_any_video()` function earlier, run this inside a cell:\n",
    "\n",
    "    ```py\n",
    "    show_any_video(-1)\n",
    "    ```\n",
    "\n",
    "- If you're following the instructions in this tutorial in a local environment on Linux or macOS, you can add most of the code into one **Python (`.py`)** file. Then, you can run your Gym experiment through `python your-code.py` in your terminal. To enable rendering, you can use the command-line interface by following the [official OpenAI Gym documentation](https://github.com/openai/gym#rendering-on-a-server) (make sure you have Gym and Xvfb installed, as described in the guide)."
   ]
  }
 ],
 "metadata": {
  "jupytext": {
   "formats": "ipynb,md:myst",
   "text_representation": {
    "extension": ".md",
    "format_name": "myst",
    "format_version": 0.13,
    "jupytext_version": "1.11.1"
   }
  },
  "kernelspec": {
   "display_name": "Python 3",
   "language": "python",
   "name": "python3"
  },
  "language_info": {
   "codemirror_mode": {
    "name": "ipython",
    "version": 3
   },
   "file_extension": ".py",
   "mimetype": "text/x-python",
   "name": "python",
   "nbconvert_exporter": "python",
   "pygments_lexer": "ipython3",
   "version": "3.8.13"
  },
  "source_map": [
   13,
   80,
   83,
   87,
   90,
   94,
   96,
   100,
   104,
   106,
   114,
   116,
   130,
   132,
   146,
   154,
   160,
   172,
   176,
   180,
   196,
   198,
   204,
   206,
   210,
   212,
   216,
   218,
   224,
   227,
   231,
   245,
   254,
   257,
   265,
   273,
   279,
   289,
   295,
   297,
   303,
   305,
   309,
   311,
   319,
   335,
   366,
   368,
   374,
   377,
   381,
   383,
   387,
   389,
   393,
   395,
   399,
   403,
   407,
   414,
   418,
   543,
   549,
   551
  ]
 },
 "nbformat": 4,
 "nbformat_minor": 5
}