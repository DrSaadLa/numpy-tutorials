{
 "cells": [
  {
   "cell_type": "markdown",
   "id": "7f10205b",
   "metadata": {},
   "source": [
    "# Masked Arrays\n",
    "\n",
    "## What you'll do\n",
    "\n",
    "Use the masked arrays module from NumPy to analyze COVID-19 data and deal with missing values.\n",
    "\n",
    "## What you'll learn\n",
    "\n",
    "- You'll understand what are masked arrays and how they can be created\n",
    "- You'll see how to access and modify data for masked arrays\n",
    "- You'll be able to decide when the use of masked arrays is appropriate in some of your applications\n",
    "\n",
    "## What you'll need\n",
    "\n",
    "- Basic familiarity with Python. If you would like to refresh your memory, take a look at the [Python tutorial](https://docs.python.org/dev/tutorial/index.html).\n",
    "- Basic familiarity with NumPy\n",
    "- To run the plots on your computer, you need [matplotlib](https://matplotlib.org)."
   ]
  },
  {
   "cell_type": "markdown",
   "id": "a61a990b",
   "metadata": {},
   "source": [
    "***"
   ]
  },
  {
   "cell_type": "markdown",
   "id": "6173960b",
   "metadata": {},
   "source": [
    "## What are masked arrays?\n",
    "\n",
    "Consider the following problem. You have a dataset with missing or invalid entries. If you're doing any kind of processing on this data, and want to *skip* or flag these unwanted entries without just deleting them, you may have to use conditionals or filter your data somehow. The [numpy.ma](https://numpy.org/devdocs/reference/maskedarray.generic.html#module-numpy.ma) module provides some of the same funcionality of [NumPy ndarrays](https://numpy.org/devdocs/reference/generated/numpy.ndarray.html#numpy.ndarray) with added structure to ensure invalid entries are not used in computation.\n",
    "\n",
    "From the [Reference Guide](https://numpy.org/devdocs/reference/maskedarray.generic.html#module-numpy.ma):\n",
    "\n",
    "> A masked array is the combination of a standard [numpy.ndarray](https://numpy.org/devdocs/reference/generated/numpy.ndarray.html#numpy.ndarray) and a **mask**. A mask is either `nomask`, indicating that no value of the associated array is invalid, or an array of booleans that determines for each element of the associated array whether the value is valid or not. When an element of the mask is `False`, the corresponding element of the associated array is valid and is said to be unmasked. When an element of the mask is `True`, the corresponding element of the associated array is said to be masked (invalid).\n",
    "\n",
    "We can think of a [MaskedArray](https://numpy.org/devdocs/reference/maskedarray.baseclass.html#numpy.ma.MaskedArray) as a combination of:\n",
    "\n",
    "- Data, as a regular `numpy.ndarray` of any shape or datatype;\n",
    "- A boolean mask with the same shape as the data;\n",
    "- A `fill_value`, a value that may be used to replace the invalid entries in order to return a standard `numpy.ndarray`.\n",
    "\n",
    "## When can they be useful?\n",
    "\n",
    "There are a few situations where masked arrays can be more useful than just eliminating the invalid entries of an array:\n",
    "\n",
    "- When you want to preserve the values you masked for later processing, without copying the array;\n",
    "- When you have to handle many arrays, each with their own mask. If the mask is part of the array, you avoid bugs and the code is possibly more compact;\n",
    "- When you have different flags for missing or invalid values, and wish to preserve these flags without replacing them in the original dataset, but exclude them from computations;\n",
    "- If you can't avoid or eliminate missing values, but don't want to deal with [NaN (Not a Number)](https://numpy.org/devdocs/reference/constants.html#numpy.nan) values in your operations.\n",
    "\n",
    "Masked arrays are also a good idea since the `numpy.ma` module also comes with a specific implementation of most [NumPy universal functions (ufuncs)](https://numpy.org/devdocs/glossary.html#term-ufunc), which means that you can still apply fast vectorized functions and operations on masked data. The output is then a masked array. We'll see some examples of how this works in practice below."
   ]
  },
  {
   "cell_type": "markdown",
   "id": "f02177f8",
   "metadata": {},
   "source": [
    "## Using masked arrays to see COVID-19 data\n",
    "\n",
    "From [Kaggle](https://www.kaggle.com/atilamadai/covid19) it is possible to download a dataset with initial data about the COVID-19 outbreak in the beginning of 2020. We are going to look at a small subset of this data, contained in the file `who_covid_19_sit_rep_time_series.csv`. *(Note that this file has been replaced with a version without missing data sometime in late 2020.)*"
   ]
  },
  {
   "cell_type": "code",
   "execution_count": 1,
   "id": "58cfa76d",
   "metadata": {},
   "outputs": [],
   "source": [
    "import numpy as np\n",
    "import os\n",
    "\n",
    "# The os.getcwd() function returns the current folder; you can change\n",
    "# the filepath variable to point to the folder where you saved the .csv file\n",
    "filepath = os.getcwd()\n",
    "filename = os.path.join(filepath, \"who_covid_19_sit_rep_time_series.csv\")"
   ]
  },
  {
   "cell_type": "markdown",
   "id": "b7f80f03",
   "metadata": {},
   "source": [
    "The data file contains data of different types and is organized as follows:\n",
    "\n",
    "- The first row is a header line that (mostly) describes the data in each column that follow in the rows below, and beginning in the fourth column, the header is the date of the observation.\n",
    "- The second through seventh row contain summary data that is of a different type than that which we are going to examine, so we will need to exclude that from the data with which we will work.\n",
    "- The numerical data we wish to work with begins at column 4, row 8, and extends from there to the rightmost column and the lowermost row.\n",
    "\n",
    "Let's explore the data inside this file for the first 14 days of records. To gather data from the `.csv` file, we will use the [numpy.genfromtxt](https://numpy.org/devdocs/reference/generated/numpy.genfromtxt.html#numpy.genfromtxt) function, making sure we select only the columns with actual numbers instead of the first three columns which contain location data. We also skip the first 7\n",
    "rows of this file, since they contain other data we are not interested in. Separately, we will extract the information about dates and location for this data."
   ]
  },
  {
   "cell_type": "code",
   "execution_count": 2,
   "id": "b038fa21",
   "metadata": {},
   "outputs": [],
   "source": [
    "# Note we are using skip_header and usecols to read only portions of the\n",
    "# data file into each variable.\n",
    "# Read just the dates for columns 3-7 from the first row\n",
    "dates = np.genfromtxt(\n",
    "    filename,\n",
    "    dtype=np.unicode_,\n",
    "    delimiter=\",\",\n",
    "    max_rows=1,\n",
    "    usecols=range(3, 17),\n",
    "    encoding=\"utf-8-sig\",\n",
    ")\n",
    "# Read the names of the geographic locations from the first two\n",
    "# columns, skipping the first seven rows\n",
    "locations = np.genfromtxt(\n",
    "    filename,\n",
    "    dtype=np.unicode_,\n",
    "    delimiter=\",\",\n",
    "    skip_header=7,\n",
    "    usecols=(0, 1),\n",
    "    encoding=\"utf-8-sig\",\n",
    ")\n",
    "# Read the numeric data from just the first 14 days\n",
    "nbcases = np.genfromtxt(\n",
    "    filename,\n",
    "    dtype=np.int_,\n",
    "    delimiter=\",\",\n",
    "    skip_header=7,\n",
    "    usecols=range(3, 17),\n",
    "    encoding=\"utf-8-sig\",\n",
    ")"
   ]
  },
  {
   "cell_type": "markdown",
   "id": "b4df7d2b",
   "metadata": {},
   "source": [
    "Included in the `numpy.genfromtxt` function call, we have selected the [numpy.dtype](https://numpy.org/devdocs/reference/generated/numpy.dtype.html#numpy.dtype) for each subset of the data (either an integer - `numpy.int_` - or a string of characters - `numpy.unicode_`). We have also used the `encoding` argument to select `utf-8-sig` as the encoding for the file (read more about encoding in the [official Python documentation](https://docs.python.org/3/library/codecs.html#encodings-and-unicode). You can read more about the `numpy.genfromtxt` function from the [Reference Documentation](https://numpy.org/devdocs/reference/generated/numpy.genfromtxt.html#numpy.genfromtxt) or from the [Basic IO tutorial](https://numpy.org/devdocs/user/basics.io.genfromtxt.html)."
   ]
  },
  {
   "cell_type": "markdown",
   "id": "8a7c33ec",
   "metadata": {},
   "source": [
    "## Exploring the data\n",
    "\n",
    "First of all, we can plot the whole set of data we have and see what it looks like. In order to get a readable plot, we select only a few of the dates to show in our [x-axis ticks](https://matplotlib.org/api/_as_gen/matplotlib.pyplot.xticks.html#matplotlib.pyplot.xticks). Note also that in our plot command, we use `nbcases.T` (the transpose of the `nbcases` array) since this means we will plot each row of the file as a separate line. We choose to plot a dashed line (using the `'--'` line style). See the [matplotlib](https://matplotlib.org/) documentation for more info on this."
   ]
  },
  {
   "cell_type": "code",
   "execution_count": 3,
   "id": "c97c1929",
   "metadata": {},
   "outputs": [
    {
     "data": {
      "text/plain": [
       "Text(0.5, 1.0, 'COVID-19 cumulative cases from Jan 21 to Feb 3 2020')"
      ]
     },
     "execution_count": 3,
     "metadata": {},
     "output_type": "execute_result"
    },
    {
     "data": {
      "image/png": "[encoded data removed]",
      "text/plain": [
       "<Figure size 432x288 with 1 Axes>"
      ]
     },
     "metadata": {
      "filenames": {
       "image/png": "/home/circleci/repo/site/_build/jupyter_execute/content/tutorial-ma_9_1.png"
      },
      "needs_background": "light"
     },
     "output_type": "display_data"
    }
   ],
   "source": [
    "import matplotlib.pyplot as plt\n",
    "\n",
    "selected_dates = [0, 3, 11, 13]\n",
    "plt.plot(dates, nbcases.T, \"--\")\n",
    "plt.xticks(selected_dates, dates[selected_dates])\n",
    "plt.title(\"COVID-19 cumulative cases from Jan 21 to Feb 3 2020\")"
   ]
  },
  {
   "cell_type": "markdown",
   "id": "910b727f",
   "metadata": {},
   "source": [
    "The graph has a strange shape from January 24th to February 1st. It would be interesing to know where this data comes from. If we look at the `locations` array we extracted from the `.csv` file, we can see that we have two columns, where the first would contain regions and the second would contain the name of the country. However, only the first few rows contain data for the the first column (province names in China). Following that, we only have country names. So it would make sense to group all the data from China into a single row. For this, we'll select from the `nbcases` array only the rows for which the second entry of the `locations` array corresponds to China. Next, we'll use the [numpy.sum](https://numpy.org/devdocs/reference/generated/numpy.sum.html#numpy.sum) function to sum all the selected rows (`axis=0`):"
   ]
  },
  {
   "cell_type": "code",
   "execution_count": 4,
   "id": "b2311fd0",
   "metadata": {},
   "outputs": [
    {
     "data": {
      "text/plain": [
       "array([  247,   288,   556,   817,   -22,   -22,   -15,   -10,    -9,\n",
       "          -7,    -4, 11820, 14410, 17237])"
      ]
     },
     "execution_count": 4,
     "metadata": {},
     "output_type": "execute_result"
    }
   ],
   "source": [
    "china_total = nbcases[locations[:, 1] == \"China\"].sum(axis=0)\n",
    "china_total"
   ]
  },
  {
   "cell_type": "markdown",
   "id": "23da46da",
   "metadata": {},
   "source": [
    "Something's wrong with this data - we are not supposed to have negative values in a cumulative data set. What's going on?"
   ]
  },
  {
   "cell_type": "markdown",
   "id": "614d6c2d",
   "metadata": {},
   "source": [
    "## Missing data\n",
    "\n",
    "Looking at the data, here's what we find: there is a period with **missing data**:"
   ]
  },
  {
   "cell_type": "code",
   "execution_count": 5,
   "id": "18eb268e",
   "metadata": {},
   "outputs": [
    {
     "data": {
      "text/plain": [
       "array([[  258,   270,   375, ...,  7153,  9074, 11177],\n",
       "       [   14,    17,    26, ...,   520,   604,   683],\n",
       "       [   -1,     1,     1, ...,   422,   493,   566],\n",
       "       ...,\n",
       "       [   -1,    -1,    -1, ...,    -1,    -1,    -1],\n",
       "       [   -1,    -1,    -1, ...,    -1,    -1,    -1],\n",
       "       [   -1,    -1,    -1, ...,    -1,    -1,    -1]])"
      ]
     },
     "execution_count": 5,
     "metadata": {},
     "output_type": "execute_result"
    }
   ],
   "source": [
    "nbcases"
   ]
  },
  {
   "cell_type": "markdown",
   "id": "9944dc4b",
   "metadata": {},
   "source": [
    "All the `-1` values we are seeing come from `numpy.genfromtxt` attempting to read missing data from the original `.csv` file. Obviously, we\n",
    "don't want to compute missing data as `-1` - we just want to skip this value so it doesn't interfere in our analysis. After importing the `numpy.ma` module, we'll create a new array, this time masking the invalid values:"
   ]
  },
  {
   "cell_type": "code",
   "execution_count": 6,
   "id": "a37c1064",
   "metadata": {},
   "outputs": [],
   "source": [
    "from numpy import ma\n",
    "\n",
    "nbcases_ma = ma.masked_values(nbcases, -1)"
   ]
  },
  {
   "cell_type": "markdown",
   "id": "55a50f73",
   "metadata": {},
   "source": [
    "If we look at the `nbcases_ma` masked array, this is what we have:"
   ]
  },
  {
   "cell_type": "code",
   "execution_count": 7,
   "id": "c5cf84ee",
   "metadata": {},
   "outputs": [
    {
     "data": {
      "text/plain": [
       "masked_array(\n",
       "  data=[[258, 270, 375, ..., 7153, 9074, 11177],\n",
       "        [14, 17, 26, ..., 520, 604, 683],\n",
       "        [--, 1, 1, ..., 422, 493, 566],\n",
       "        ...,\n",
       "        [--, --, --, ..., --, --, --],\n",
       "        [--, --, --, ..., --, --, --],\n",
       "        [--, --, --, ..., --, --, --]],\n",
       "  mask=[[False, False, False, ..., False, False, False],\n",
       "        [False, False, False, ..., False, False, False],\n",
       "        [ True, False, False, ..., False, False, False],\n",
       "        ...,\n",
       "        [ True,  True,  True, ...,  True,  True,  True],\n",
       "        [ True,  True,  True, ...,  True,  True,  True],\n",
       "        [ True,  True,  True, ...,  True,  True,  True]],\n",
       "  fill_value=-1)"
      ]
     },
     "execution_count": 7,
     "metadata": {},
     "output_type": "execute_result"
    }
   ],
   "source": [
    "nbcases_ma"
   ]
  },
  {
   "cell_type": "markdown",
   "id": "ef22bb69",
   "metadata": {},
   "source": [
    "We can see that this is a different kind of array. As mentioned in the introduction, it has three attributes (`data`, `mask` and `fill_value`).\n",
    "Keep in mind that the `mask` attribute has a `True` value for elements corresponding to **invalid** data (represented by two dashes in the `data` attribute)."
   ]
  },
  {
   "cell_type": "markdown",
   "id": "16385131",
   "metadata": {},
   "source": [
    "Let's try and see what the data looks like excluding the first row (data from the Hubei province in China) so we can look at the missing data more\n",
    "closely:"
   ]
  },
  {
   "cell_type": "code",
   "execution_count": 8,
   "id": "0c0072fd",
   "metadata": {},
   "outputs": [
    {
     "data": {
      "text/plain": [
       "Text(0.5, 1.0, 'COVID-19 cumulative cases from Jan 21 to Feb 3 2020')"
      ]
     },
     "execution_count": 8,
     "metadata": {},
     "output_type": "execute_result"
    },
    {
     "data": {
      "image/png": "[encoded data removed]",
      "text/plain": [
       "<Figure size 432x288 with 1 Axes>"
      ]
     },
     "metadata": {
      "filenames": {
       "image/png": "/home/circleci/repo/site/_build/jupyter_execute/content/tutorial-ma_21_1.png"
      },
      "needs_background": "light"
     },
     "output_type": "display_data"
    }
   ],
   "source": [
    "plt.plot(dates, nbcases_ma[1:].T, \"--\")\n",
    "plt.xticks(selected_dates, dates[selected_dates])\n",
    "plt.title(\"COVID-19 cumulative cases from Jan 21 to Feb 3 2020\")"
   ]
  },
  {
   "cell_type": "markdown",
   "id": "8e0a0e17",
   "metadata": {},
   "source": [
    "Now that our data has been masked, let's try summing up all the cases in China:"
   ]
  },
  {
   "cell_type": "code",
   "execution_count": 9,
   "id": "c0bbb7b3",
   "metadata": {},
   "outputs": [
    {
     "data": {
      "text/plain": [
       "masked_array(data=[278, 309, 574, 835, 10, 10, 17, 22, 23, 25, 28, 11821,\n",
       "                   14411, 17238],\n",
       "             mask=[False, False, False, False, False, False, False, False,\n",
       "                   False, False, False, False, False, False],\n",
       "       fill_value=999999)"
      ]
     },
     "execution_count": 9,
     "metadata": {},
     "output_type": "execute_result"
    }
   ],
   "source": [
    "china_masked = nbcases_ma[locations[:, 1] == \"China\"].sum(axis=0)\n",
    "china_masked"
   ]
  },
  {
   "cell_type": "markdown",
   "id": "01bc7f96",
   "metadata": {},
   "source": [
    "Note that `china_masked` is a masked array, so it has a different data structure than a regular NumPy array. Now, we can access its data directly by using the `.data` attribute:"
   ]
  },
  {
   "cell_type": "code",
   "execution_count": 10,
   "id": "817df4a4",
   "metadata": {},
   "outputs": [
    {
     "data": {
      "text/plain": [
       "array([  278,   309,   574,   835,    10,    10,    17,    22,    23,\n",
       "          25,    28, 11821, 14411, 17238])"
      ]
     },
     "execution_count": 10,
     "metadata": {},
     "output_type": "execute_result"
    }
   ],
   "source": [
    "china_total = china_masked.data\n",
    "china_total"
   ]
  },
  {
   "cell_type": "markdown",
   "id": "2db49768",
   "metadata": {},
   "source": [
    "That is better: no more negative values. However, we can still see that for some days, the cumulative number of cases seems to go down (from 835 to 10, for example), which does not agree with the definition of \"cumulative data\". If we look more closely at the data, we can see that in the period where there was missing data in mainland China, there was valid data for Hong Kong, Taiwan, Macau and \"Unspecified\" regions of China. Maybe we can remove those from the total sum of cases in China, to get a better understanding of the data.\n",
    "\n",
    "First, we'll identify the indices of locations in mainland China:"
   ]
  },
  {
   "cell_type": "code",
   "execution_count": 11,
   "id": "b59cd270",
   "metadata": {},
   "outputs": [],
   "source": [
    "china_mask = (\n",
    "    (locations[:, 1] == \"China\")\n",
    "    & (locations[:, 0] != \"Hong Kong\")\n",
    "    & (locations[:, 0] != \"Taiwan\")\n",
    "    & (locations[:, 0] != \"Macau\")\n",
    "    & (locations[:, 0] != \"Unspecified*\")\n",
    ")"
   ]
  },
  {
   "cell_type": "markdown",
   "id": "e4bf75e6",
   "metadata": {},
   "source": [
    "Now, `china_mask` is an array of boolean values (`True` or `False`); we can check that the indices are what we wanted with the [ma.nonzero](https://numpy.org/devdocs/reference/generated/numpy.ma.nonzero.html#numpy.ma.nonzero) method for masked arrays:"
   ]
  },
  {
   "cell_type": "code",
   "execution_count": 12,
   "id": "c89e6539",
   "metadata": {},
   "outputs": [
    {
     "data": {
      "text/plain": [
       "(array([ 0,  1,  2,  3,  4,  5,  6,  7,  8,  9, 10, 11, 12, 13, 14, 15, 16,\n",
       "        17, 18, 19, 20, 21, 22, 23, 25, 26, 27, 28, 29, 31, 33]),)"
      ]
     },
     "execution_count": 12,
     "metadata": {},
     "output_type": "execute_result"
    }
   ],
   "source": [
    "china_mask.nonzero()"
   ]
  },
  {
   "cell_type": "markdown",
   "id": "70b9e01b",
   "metadata": {},
   "source": [
    "Now we can correctly sum entries for mainland China:"
   ]
  },
  {
   "cell_type": "code",
   "execution_count": 13,
   "id": "d1b4630b",
   "metadata": {},
   "outputs": [
    {
     "data": {
      "text/plain": [
       "masked_array(data=[278, 308, 440, 446, --, --, --, --, --, --, --, 11791,\n",
       "                   14380, 17205],\n",
       "             mask=[False, False, False, False,  True,  True,  True,  True,\n",
       "                    True,  True,  True, False, False, False],\n",
       "       fill_value=999999)"
      ]
     },
     "execution_count": 13,
     "metadata": {},
     "output_type": "execute_result"
    }
   ],
   "source": [
    "china_total = nbcases_ma[china_mask].sum(axis=0)\n",
    "china_total"
   ]
  },
  {
   "cell_type": "markdown",
   "id": "45054816",
   "metadata": {},
   "source": [
    "We can replace the data with this information and plot a new graph, focusing on Mainland China:"
   ]
  },
  {
   "cell_type": "code",
   "execution_count": 14,
   "id": "38ac2e5c",
   "metadata": {},
   "outputs": [
    {
     "data": {
      "text/plain": [
       "Text(0.5, 1.0, 'COVID-19 cumulative cases from Jan 21 to Feb 3 2020 - Mainland China')"
      ]
     },
     "execution_count": 14,
     "metadata": {},
     "output_type": "execute_result"
    },
    {
     "data": {
      "image/png": "[encoded data removed]",
      "text/plain": [
       "<Figure size 432x288 with 1 Axes>"
      ]
     },
     "metadata": {
      "filenames": {
       "image/png": "/home/circleci/repo/site/_build/jupyter_execute/content/tutorial-ma_33_1.png"
      },
      "needs_background": "light"
     },
     "output_type": "display_data"
    }
   ],
   "source": [
    "plt.plot(dates, china_total.T, \"--\")\n",
    "plt.xticks(selected_dates, dates[selected_dates])\n",
    "plt.title(\"COVID-19 cumulative cases from Jan 21 to Feb 3 2020 - Mainland China\")"
   ]
  },
  {
   "cell_type": "markdown",
   "id": "db5ba35b",
   "metadata": {},
   "source": [
    "It's clear that masked arrays are the right solution here. We cannot represent the missing data without mischaracterizing the evolution of the curve."
   ]
  },
  {
   "cell_type": "markdown",
   "id": "0a6f14e8",
   "metadata": {},
   "source": [
    "## Fitting Data\n",
    "\n",
    "One possibility we can think of is to interpolate the missing data to estimate the number of cases in late January. Observe that we can select the masked elements using the `.mask` attribute:"
   ]
  },
  {
   "cell_type": "code",
   "execution_count": 15,
   "id": "5bb22464",
   "metadata": {},
   "outputs": [
    {
     "data": {
      "text/plain": [
       "masked_array(data=[--, --, --, --, --, --, --],\n",
       "             mask=[ True,  True,  True,  True,  True,  True,  True],\n",
       "       fill_value=999999,\n",
       "            dtype=int64)"
      ]
     },
     "execution_count": 15,
     "metadata": {},
     "output_type": "execute_result"
    }
   ],
   "source": [
    "china_total.mask\n",
    "invalid = china_total[china_total.mask]\n",
    "invalid"
   ]
  },
  {
   "cell_type": "markdown",
   "id": "9b7b8947",
   "metadata": {},
   "source": [
    "We can also access the valid entries by using the logical negation for this mask:"
   ]
  },
  {
   "cell_type": "code",
   "execution_count": 16,
   "id": "b0b95e25",
   "metadata": {},
   "outputs": [
    {
     "data": {
      "text/plain": [
       "masked_array(data=[278, 308, 440, 446, 11791, 14380, 17205],\n",
       "             mask=[False, False, False, False, False, False, False],\n",
       "       fill_value=999999)"
      ]
     },
     "execution_count": 16,
     "metadata": {},
     "output_type": "execute_result"
    }
   ],
   "source": [
    "valid = china_total[~china_total.mask]\n",
    "valid"
   ]
  },
  {
   "cell_type": "markdown",
   "id": "ffd879e8",
   "metadata": {},
   "source": [
    "Now, if we want to create a very simple approximation for this data, we should take into account the valid entries around the invalid ones. So first let's select the dates for which the data is valid. Note that we can use the mask from the `china_total` masked array to index the dates array:"
   ]
  },
  {
   "cell_type": "code",
   "execution_count": 17,
   "id": "768007a7",
   "metadata": {},
   "outputs": [
    {
     "data": {
      "text/plain": [
       "array(['1/21/20', '1/22/20', '1/23/20', '1/24/20', '2/1/20', '2/2/20',\n",
       "       '2/3/20'], dtype='<U7')"
      ]
     },
     "execution_count": 17,
     "metadata": {},
     "output_type": "execute_result"
    }
   ],
   "source": [
    "dates[~china_total.mask]"
   ]
  },
  {
   "cell_type": "markdown",
   "id": "87e25a5e",
   "metadata": {},
   "source": [
    "Finally, we can use the [numpy.polyfit](https://numpy.org/devdocs/reference/generated/numpy.polyfit.html#numpy.polyfit) and [numpy.polyval](https://numpy.org/devdocs/reference/generated/numpy.polyval.html#numpy.polyval) functions to create a cubic polynomial that fits the data as best as possible:"
   ]
  },
  {
   "cell_type": "code",
   "execution_count": 18,
   "id": "ffc64397",
   "metadata": {},
   "outputs": [
    {
     "data": {
      "text/plain": [
       "[<matplotlib.lines.Line2D at 0x7fbabbaa45b0>]"
      ]
     },
     "execution_count": 18,
     "metadata": {},
     "output_type": "execute_result"
    },
    {
     "data": {
      "image/png": "[encoded data removed]",
      "text/plain": [
       "<Figure size 432x288 with 1 Axes>"
      ]
     },
     "metadata": {
      "filenames": {
       "image/png": "/home/circleci/repo/site/_build/jupyter_execute/content/tutorial-ma_42_1.png"
      },
      "needs_background": "light"
     },
     "output_type": "display_data"
    }
   ],
   "source": [
    "t = np.arange(len(china_total))\n",
    "params = np.polyfit(t[~china_total.mask], valid, 3)\n",
    "cubic_fit = np.polyval(params, t)\n",
    "plt.plot(t, china_total)\n",
    "plt.plot(t, cubic_fit, \"--\")"
   ]
  },
  {
   "cell_type": "markdown",
   "id": "2aba73c8",
   "metadata": {},
   "source": [
    "This plot is not so readable since the lines seem to be over each other, so let's summarize in a more elaborate plot. We'll plot the real data when\n",
    "available, and show the cubic fit for unavailable data, using this fit to compute an estimate to the observed number of cases on January 28th 2020, 7 days after the beginning of the records:"
   ]
  },
  {
   "cell_type": "code",
   "execution_count": 19,
   "id": "d06420b2",
   "metadata": {},
   "outputs": [
    {
     "data": {
      "text/plain": [
       "Text(0.5, 1.0, 'COVID-19 cumulative cases from Jan 21 to Feb 3 2020 - Mainland China\\nCubic estimate for 7 days after start')"
      ]
     },
     "execution_count": 19,
     "metadata": {},
     "output_type": "execute_result"
    },
    {
     "data": {
      "image/png": "[encoded data removed]",
      "text/plain": [
       "<Figure size 432x288 with 1 Axes>"
      ]
     },
     "metadata": {
      "filenames": {
       "image/png": "/home/circleci/repo/site/_build/jupyter_execute/content/tutorial-ma_44_1.png"
      },
      "needs_background": "light"
     },
     "output_type": "display_data"
    }
   ],
   "source": [
    "plt.plot(t, china_total)\n",
    "plt.plot(t[china_total.mask], cubic_fit[china_total.mask], \"--\", color=\"orange\")\n",
    "plt.plot(7, np.polyval(params, 7), \"r*\")\n",
    "plt.xticks([0, 7, 13], dates[[0, 7, 13]])\n",
    "plt.yticks([0, np.polyval(params, 7), 10000, 17500])\n",
    "plt.legend([\"Mainland China\", \"Cubic estimate\", \"7 days after start\"])\n",
    "plt.title(\n",
    "    \"COVID-19 cumulative cases from Jan 21 to Feb 3 2020 - Mainland China\\n\"\n",
    "    \"Cubic estimate for 7 days after start\"\n",
    ")"
   ]
  },
  {
   "cell_type": "markdown",
   "id": "4a42457f",
   "metadata": {},
   "source": [
    "## In practice"
   ]
  },
  {
   "cell_type": "markdown",
   "id": "aea3a4d3",
   "metadata": {},
   "source": [
    "- Adding `-1` to missing data is not a problem with `numpy.genfromtxt`; in this particular case, substituting the missing value with `0` might have been fine, but we'll see later that this is far from a general solution. Also, it is possible to call the `numpy.genfromtxt` function using the `usemask` parameter. If `usemask=True`, `numpy.genfromtxt` automatically returns a masked array."
   ]
  },
  {
   "cell_type": "markdown",
   "id": "2759ebd4",
   "metadata": {},
   "source": [
    "## Further reading\n",
    "\n",
    "Topics not covered in this tutorial can be found in the documentation:\n",
    "\n",
    "- [Hardmasks](https://numpy.org/devdocs/reference/generated/numpy.ma.harden_mask.html#numpy.ma.harden_mask) vs. [softmasks](https://numpy.org/devdocs/reference/generated/numpy.ma.soften_mask.html#numpy.ma.soften_mask)\n",
    "- [The numpy.ma module](https://numpy.org/devdocs/reference/maskedarray.generic.html#maskedarray-generic)\n",
    "\n",
    "### Reference\n",
    "\n",
    "- Ensheng Dong, Hongru Du, Lauren Gardner, *An interactive web-based dashboard to track COVID-19 in real time*, The Lancet Infectious Diseases, Volume 20, Issue 5, 2020, Pages 533-534, ISSN 1473-3099, [https://doi.org/10.1016/S1473-3099(20)30120-1](https://doi.org/10.1016/S1473-3099(20)30120-1)."
   ]
  }
 ],
 "metadata": {
  "jupytext": {
   "formats": "ipynb,md:myst",
   "text_representation": {
    "extension": ".md",
    "format_name": "myst",
    "format_version": 0.13,
    "jupytext_version": "1.11.1"
   }
  },
  "kernelspec": {
   "display_name": "Python 3",
   "language": "python",
   "name": "python3"
  },
  "language_info": {
   "codemirror_mode": {
    "name": "ipython",
    "version": 3
   },
   "file_extension": ".py",
   "mimetype": "text/x-python",
   "name": "python",
   "nbconvert_exporter": "python",
   "pygments_lexer": "ipython3",
   "version": "3.8.5"
  },
  "source_map": [
   13,
   33,
   37,
   64,
   70,
   78,
   89,
   120,
   124,
   130,
   137,
   141,
   144,
   148,
   154,
   156,
   161,
   165,
   169,
   171,
   176,
   181,
   185,
   189,
   192,
   196,
   199,
   205,
   213,
   217,
   219,
   223,
   226,
   230,
   234,
   238,
   244,
   248,
   252,
   255,
   259,
   261,
   265,
   271,
   276,
   287,
   291,
   295
  ]
 },
 "nbformat": 4,
 "nbformat_minor": 5
}