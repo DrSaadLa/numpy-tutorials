{
 "cells": [
  {
   "cell_type": "markdown",
   "id": "4804990c",
   "metadata": {},
   "source": [
    "# Determining Static Equilibrium in NumPy\n",
    "\n",
    "When analyzing physical structures, it is crucial to understand the mechanics keeping them stable. Applied forces on a floor, a beam, or any other structure, create reaction forces and moments. These reactions are the structure resisting movement without breaking. In cases where structures do not move despite having forces applied to them, [Newton's second law](https://en.wikipedia.org/wiki/Newton%27s_laws_of_motion#Newton's_second_law) states that both the acceleration and sum of forces in all directions in the system must be zero. You can represent and solve this concept with NumPy arrays.\n",
    "\n",
    "## What you'll do:\n",
    "- In this tutorial, you will use NumPy to create vectors and moments using NumPy arrays\n",
    "- Solve problems involving cables and floors holding up structures\n",
    "- Write NumPy matrices to isolate unkowns\n",
    "- Use NumPy functions to perform linear algebra operations\n",
    "\n",
    "## What you'll learn:\n",
    "- How to represent points, vectors, and moments with NumPy.\n",
    "- How to find the [normal of vectors](https://en.wikipedia.org/wiki/Normal_(geometry))\n",
    "- Using NumPy to compute matrix calculations\n",
    "\n",
    "## What you'll need:\n",
    "- NumPy\n",
    "- [Matplotlib](https://matplotlib.org/)\n",
    "\n",
    "imported with the following comands:"
   ]
  },
  {
   "cell_type": "code",
   "execution_count": 1,
   "id": "2077fa3c",
   "metadata": {},
   "outputs": [],
   "source": [
    "import numpy as np\n",
    "import matplotlib.pyplot as plt"
   ]
  },
  {
   "cell_type": "markdown",
   "id": "087910a9",
   "metadata": {},
   "source": [
    "In this tutorial you will use the following NumPy tools:\n",
    "\n",
    "* [`np.linalg.norm`](https://numpy.org/doc/stable/reference/generated/numpy.linalg.norm.html) : this function determines the measure of vector magnitude\n",
    "* [`np.cross`](https://numpy.org/doc/stable/reference/generated/numpy.cross.html) : this function takes two matrices and produces the cross product"
   ]
  },
  {
   "cell_type": "markdown",
   "id": "901a18d8",
   "metadata": {},
   "source": [
    "## Solving equilibrium with Newton's second law\n",
    "\n",
    "Your model consists of a beam under a sum of forces and moments. You can start analyzing this system with Newton's second law:\n",
    "\n",
    "$$\\sum{\\text{force}} = \\text{mass} \\times \\text{acceleration}.$$\n",
    "\n",
    "In order to simplify the examples looked at, assume they are static, with acceleration $=0$. Due to our system existing in three dimensions, consider forces being applied in each of these dimensions. This means that you can represent these forces as vectors. You come to the same conclusion for [moments](https://en.wikipedia.org/wiki/Moment_(physics)), which result from forces being applied a certain distance away from an object's center of mass.\n",
    "\n",
    "Assume that the force $F$ is represented as a three-dimensional vector\n",
    "\n",
    "$$F = (F_x, F_y, F_z)$$\n",
    "\n",
    "where each of the three components represent the magnitude of the force being applied in each corresponding direction. Assume also that each component in the vector\n",
    "\n",
    "$$r = (r_x, r_y, r_z)$$\n",
    "\n",
    "is the distance between the point where each component of the force is applied and the centroid of the system. Then, the moment can be computed by\n",
    "\n",
    "$$r \\times F = (r_x, r_y, r_z) \\times (F_x, F_y, F_z).$$\n",
    "\n",
    "Start with some simple examples of force vectors"
   ]
  },
  {
   "cell_type": "code",
   "execution_count": 2,
   "id": "23aa8fb2",
   "metadata": {},
   "outputs": [
    {
     "name": "stdout",
     "output_type": "stream",
     "text": [
      "Force A = [1 0 0]\n",
      "Force B = [0 1 0]\n"
     ]
    }
   ],
   "source": [
    "forceA = np.array([1, 0, 0])\n",
    "forceB = np.array([0, 1, 0])\n",
    "print(\"Force A =\", forceA)\n",
    "print(\"Force B =\", forceB)"
   ]
  },
  {
   "cell_type": "markdown",
   "id": "d7bdde45",
   "metadata": {},
   "source": [
    "This defines `forceA` as being a vector with magnitude of 1 in the $x$ direction and `forceB` as magnitude 1 in the $y$ direction.\n",
    "\n",
    "It may be helpful to visualize these forces in order to better understand how they interact with each other.\n",
    "Matplotlib is a library with visualization tools that can be utilized for this purpose.\n",
    "Quiver plots will be used to demonstrate [three dimensional vectors](https://matplotlib.org/3.3.4/gallery/mplot3d/quiver3d.html), but the library can also be used for [two dimensional demonstrations](https://matplotlib.org/stable/api/_as_gen/matplotlib.axes.Axes.quiver.html)."
   ]
  },
  {
   "cell_type": "code",
   "execution_count": 3,
   "id": "649a1589",
   "metadata": {},
   "outputs": [
    {
     "name": "stderr",
     "output_type": "stream",
     "text": [
      "/tmp/ipykernel_2942/1945622222.py:3: MatplotlibDeprecationWarning: Calling gca() with keyword arguments was deprecated in Matplotlib 3.4. Starting two minor releases later, gca() will take no keyword arguments. The gca() function should only be used to get the current axes, or if no axes exist, create new axes with default keyword arguments. To create a new axes with non-default arguments, use plt.axes() or plt.subplot().\n",
      "  d3 = fig.gca(projection=\"3d\")\n"
     ]
    },
    {
     "data": {
      "image/png": "[encoded data removed]",
      "text/plain": [
       "<Figure size 432x288 with 1 Axes>"
      ]
     },
     "metadata": {
      "needs_background": "light"
     },
     "output_type": "display_data"
    }
   ],
   "source": [
    "fig = plt.figure()\n",
    "\n",
    "d3 = fig.gca(projection=\"3d\")\n",
    "\n",
    "d3.set_xlim(-1, 1)\n",
    "d3.set_ylim(-1, 1)\n",
    "d3.set_zlim(-1, 1)\n",
    "\n",
    "x, y, z = np.array([0, 0, 0])  # defining the point of application.  Make it the origin\n",
    "\n",
    "u, v, w = forceA  # breaking the force vector into individual components\n",
    "d3.quiver(x, y, z, u, v, w, color=\"r\", label=\"forceA\")\n",
    "\n",
    "u, v, w = forceB\n",
    "d3.quiver(x, y, z, u, v, w, color=\"b\", label=\"forceB\")\n",
    "\n",
    "plt.legend()\n",
    "plt.show()"
   ]
  },
  {
   "cell_type": "markdown",
   "id": "5dfc6fa2",
   "metadata": {},
   "source": [
    "There are two forces emanating from a single point. In order to simplify this problem, you can add them together to find the sum of forces. Note that both `forceA` and `forceB` are three-dimensional vectors, represented by NumPy as arrays with three components. Because NumPy is meant to simplify and optimize operations between vectors, you can easily compute the sum of these two vectors as follows:"
   ]
  },
  {
   "cell_type": "code",
   "execution_count": 4,
   "id": "1613c812",
   "metadata": {},
   "outputs": [
    {
     "name": "stdout",
     "output_type": "stream",
     "text": [
      "Force C = [1 1 0]\n"
     ]
    }
   ],
   "source": [
    "forceC = forceA + forceB\n",
    "print(\"Force C =\", forceC)"
   ]
  },
  {
   "cell_type": "markdown",
   "id": "6b88ce54",
   "metadata": {},
   "source": [
    "Force C now acts as a single force that represents both A and B.\n",
    "You can plot it to see the result."
   ]
  },
  {
   "cell_type": "code",
   "execution_count": 5,
   "id": "ef8ed3f9",
   "metadata": {},
   "outputs": [
    {
     "name": "stderr",
     "output_type": "stream",
     "text": [
      "/tmp/ipykernel_2942/2686522130.py:3: MatplotlibDeprecationWarning: Calling gca() with keyword arguments was deprecated in Matplotlib 3.4. Starting two minor releases later, gca() will take no keyword arguments. The gca() function should only be used to get the current axes, or if no axes exist, create new axes with default keyword arguments. To create a new axes with non-default arguments, use plt.axes() or plt.subplot().\n",
      "  d3 = fig.gca(projection=\"3d\")\n"
     ]
    },
    {
     "data": {
      "image/png": "[encoded data removed]",
      "text/plain": [
       "<Figure size 432x288 with 1 Axes>"
      ]
     },
     "metadata": {
      "needs_background": "light"
     },
     "output_type": "display_data"
    }
   ],
   "source": [
    "fig = plt.figure()\n",
    "\n",
    "d3 = fig.gca(projection=\"3d\")\n",
    "\n",
    "d3.set_xlim(-1, 1)\n",
    "d3.set_ylim(-1, 1)\n",
    "d3.set_zlim(-1, 1)\n",
    "\n",
    "x, y, z = np.array([0, 0, 0])\n",
    "\n",
    "u, v, w = forceA\n",
    "d3.quiver(x, y, z, u, v, w, color=\"r\", label=\"forceA\")\n",
    "u, v, w = forceB\n",
    "d3.quiver(x, y, z, u, v, w, color=\"b\", label=\"forceB\")\n",
    "u, v, w = forceC\n",
    "d3.quiver(x, y, z, u, v, w, color=\"g\", label=\"forceC\")\n",
    "\n",
    "plt.legend()\n",
    "plt.show()"
   ]
  },
  {
   "cell_type": "markdown",
   "id": "33a55a0c",
   "metadata": {},
   "source": [
    "However, the goal is equilibrium.\n",
    "This means that you want your sum of forces to be $(0, 0, 0)$ or else your object will experience acceleration.\n",
    "Therefore, there needs to be another force that counteracts the prior ones.\n",
    "\n",
    "You can write this problem as $A+B+R=0$, with $R$ being the reaction force that solves the problem.\n",
    "\n",
    "In this example this would mean:\n",
    "\n",
    "$$(1, 0, 0) + (0, 1, 0) + (R_x, R_y, R_z) = (0, 0, 0)$$\n",
    "\n",
    "Broken into $x$, $y$, and $z$ components this gives you:\n",
    "\n",
    "$$\\begin{cases}\n",
    "1+0+R_x=0\\\\\n",
    "0+1+R_y=0\\\\\n",
    "0+0+R_z=0\n",
    "\\end{cases}$$\n",
    "\n",
    "solving for $R_x$, $R_y$, and $R_z$ gives you a vector $R$ of $(-1, -1, 0)$.\n",
    "\n",
    "\n",
    "If plotted, the forces seen in prior examples should be nullified.\n",
    "Only if there is no force remaining is the system considered to be in equilibrium."
   ]
  },
  {
   "cell_type": "code",
   "execution_count": 6,
   "id": "01088fe9",
   "metadata": {},
   "outputs": [
    {
     "name": "stderr",
     "output_type": "stream",
     "text": [
      "/tmp/ipykernel_2942/1445521346.py:9: MatplotlibDeprecationWarning: Calling gca() with keyword arguments was deprecated in Matplotlib 3.4. Starting two minor releases later, gca() will take no keyword arguments. The gca() function should only be used to get the current axes, or if no axes exist, create new axes with default keyword arguments. To create a new axes with non-default arguments, use plt.axes() or plt.subplot().\n",
      "  d3 = fig.gca(projection=\"3d\")\n"
     ]
    },
    {
     "data": {
      "image/png": "[encoded data removed]",
      "text/plain": [
       "<Figure size 432x288 with 1 Axes>"
      ]
     },
     "metadata": {
      "needs_background": "light"
     },
     "output_type": "display_data"
    }
   ],
   "source": [
    "R = np.array([-1, -1, 0])\n",
    "\n",
    "fig = plt.figure()\n",
    "\n",
    "d3.set_xlim(-1, 1)\n",
    "d3.set_ylim(-1, 1)\n",
    "d3.set_zlim(-1, 1)\n",
    "\n",
    "d3 = fig.gca(projection=\"3d\")\n",
    "\n",
    "x, y, z = np.array([0, 0, 0])\n",
    "\n",
    "u, v, w = forceA + forceB + R  # add them all together for sum of forces\n",
    "d3.quiver(x, y, z, u, v, w)\n",
    "\n",
    "plt.show()"
   ]
  },
  {
   "cell_type": "markdown",
   "id": "cb087c42",
   "metadata": {},
   "source": [
    "The empty graph signifies that there are no outlying forces. This denotes a system in equilibrium.\n",
    "\n",
    "\n",
    "## Solving Equilibrium as a sum of moments\n",
    "\n",
    "Next let's move to a more complicated application.\n",
    "When forces are not all applied at the same point, moments are created.\n",
    "\n",
    "Similar to forces, these moments must all sum to zero, otherwise rotational acceleration will be experienced.  Similar to the sum of forces, this creates a linear equation for each of the three coordinate directions in space.\n",
    "\n",
    "A simple example of this would be from a force applied to a stationary pole secured in the ground.\n",
    "The pole does not move, so it must apply a reaction force.\n",
    "The pole also does not rotate, so it must also be creating a reaction moment.\n",
    "Solve for both the reaction force and moments.\n",
    "\n",
    "Lets say a 5N force is applied perpendicularly 2m above the base of the pole."
   ]
  },
  {
   "cell_type": "code",
   "execution_count": 7,
   "id": "1546d3c7",
   "metadata": {},
   "outputs": [
    {
     "name": "stdout",
     "output_type": "stream",
     "text": [
      "Reaction force = -5\n",
      "Reaction moment = -10\n"
     ]
    }
   ],
   "source": [
    "f = 5  # Force in newtons\n",
    "L = 2  # Length of the pole\n",
    "\n",
    "R = 0 - f\n",
    "M = 0 - f * L\n",
    "print(\"Reaction force =\", R)\n",
    "print(\"Reaction moment =\", M)"
   ]
  },
  {
   "cell_type": "markdown",
   "id": "bf7d21d3",
   "metadata": {},
   "source": [
    "## Finding values with physical properties\n",
    "\n",
    "Let's say that instead of a force acting perpendicularly to the beam, a force was applied to our pole through a wire that was also attached to the ground.\n",
    "Given the tension in this cord, all you need to solve this problem are the physical locations of these objects.\n",
    "\n",
    "![Image representing the problem](_static/static_eqbm-fig01.png)\n",
    "\n",
    "In response to the forces acting upon the pole, the base generated reaction forces in the x and y directions, as well as a reaction moment.\n",
    "\n",
    "Denote the base of the pole as the origin.\n",
    "Now, say the cord is attached to the ground 3m in the x direction and attached to the pole 2m up, in the z direction.\n",
    "\n",
    "Define these points in space as NumPy arrays, and then use those arrays to find directional vectors."
   ]
  },
  {
   "cell_type": "code",
   "execution_count": 8,
   "id": "8fb6cd92",
   "metadata": {},
   "outputs": [
    {
     "name": "stdout",
     "output_type": "stream",
     "text": [
      "Pole direction = [0 0 2]\n",
      "Cord direction = [ 3  0 -2]\n"
     ]
    }
   ],
   "source": [
    "poleBase = np.array([0, 0, 0])\n",
    "cordBase = np.array([3, 0, 0])\n",
    "cordConnection = np.array([0, 0, 2])\n",
    "\n",
    "poleDirection = cordConnection - poleBase\n",
    "print(\"Pole direction =\", poleDirection)\n",
    "cordDirection = cordBase - cordConnection\n",
    "print(\"Cord direction =\", cordDirection)"
   ]
  },
  {
   "cell_type": "markdown",
   "id": "786a12bb",
   "metadata": {},
   "source": [
    "In order to use these vectors in relation to forces you need to convert them into unit vectors.\n",
    "Unit vectors have a magnitude of one, and convey only the direction of the forces."
   ]
  },
  {
   "cell_type": "code",
   "execution_count": 9,
   "id": "8a823062",
   "metadata": {},
   "outputs": [
    {
     "name": "stdout",
     "output_type": "stream",
     "text": [
      "Cord unit vector = [ 0.83205029  0.         -0.5547002 ]\n"
     ]
    }
   ],
   "source": [
    "cordUnit = cordDirection / np.linalg.norm(cordDirection)\n",
    "print(\"Cord unit vector =\", cordUnit)"
   ]
  },
  {
   "cell_type": "markdown",
   "id": "c7b5d50b",
   "metadata": {},
   "source": [
    "You can then multiply this direction with the magnitude of the force in order to find the force vector.\n",
    "\n",
    "Let's say the cord has a tension of 5N:"
   ]
  },
  {
   "cell_type": "code",
   "execution_count": 10,
   "id": "28efa207",
   "metadata": {},
   "outputs": [
    {
     "name": "stdout",
     "output_type": "stream",
     "text": [
      "Force from the cord = [ 4.16025147  0.         -2.77350098]\n"
     ]
    }
   ],
   "source": [
    "cordTension = 5\n",
    "forceCord = cordUnit * cordTension\n",
    "print(\"Force from the cord =\", forceCord)"
   ]
  },
  {
   "cell_type": "markdown",
   "id": "0624d389",
   "metadata": {},
   "source": [
    "In order to find the moment you need the cross product of the force vector and the radius."
   ]
  },
  {
   "cell_type": "code",
   "execution_count": 11,
   "id": "29eaf31d",
   "metadata": {},
   "outputs": [
    {
     "name": "stdout",
     "output_type": "stream",
     "text": [
      "Moment from the cord = [ 0.         -8.32050294  0.        ]\n"
     ]
    }
   ],
   "source": [
    "momentCord = np.cross(forceCord, poleDirection)\n",
    "print(\"Moment from the cord =\", momentCord)"
   ]
  },
  {
   "cell_type": "markdown",
   "id": "791497c6",
   "metadata": {},
   "source": [
    "Now all you need to do is find the reaction force and moment."
   ]
  },
  {
   "cell_type": "code",
   "execution_count": 12,
   "id": "d5481d52",
   "metadata": {},
   "outputs": [
    {
     "name": "stdout",
     "output_type": "stream",
     "text": [
      "Reaction force = [-4.16025147  0.          2.77350098]\n",
      "Reaction moment = [0.         8.32050294 0.        ]\n"
     ]
    }
   ],
   "source": [
    "equilibrium = np.array([0, 0, 0])\n",
    "R = equilibrium - forceCord\n",
    "M = equilibrium - momentCord\n",
    "print(\"Reaction force =\", R)\n",
    "print(\"Reaction moment =\", M)"
   ]
  },
  {
   "cell_type": "markdown",
   "id": "1c5e260c",
   "metadata": {},
   "source": [
    "### Another Example\n",
    "Let's look at a slightly more complicated model.  In this example you will be observing a beam with two cables and an applied force.  This time you need to find both the tension in the cords and the reaction forces of the beam. *(Source: [Vector Mechanics for Engineers: Statics](https://www.mheducation.com/highered/product/vector-mechanics-engineers-statics-beer-johnston/M9780077687304.html), Problem 4.106)*\n",
    "\n",
    "\n",
    "![image.png](_static/problem4.png)\n",
    "\n",
    "Define distance *a* as 3 meters\n",
    "\n",
    "\n",
    "As before, start by defining the location of each relevant point as an array."
   ]
  },
  {
   "cell_type": "code",
   "execution_count": 13,
   "id": "039301ce",
   "metadata": {},
   "outputs": [],
   "source": [
    "A = np.array([0, 0, 0])\n",
    "B = np.array([0, 3, 0])\n",
    "C = np.array([0, 6, 0])\n",
    "D = np.array([1.5, 0, -3])\n",
    "E = np.array([1.5, 0, 3])\n",
    "F = np.array([-3, 0, 2])"
   ]
  },
  {
   "cell_type": "markdown",
   "id": "28bfd28d",
   "metadata": {},
   "source": [
    "From these equations, you start by determining vector directions with unit vectors."
   ]
  },
  {
   "cell_type": "code",
   "execution_count": 14,
   "id": "1efb558d",
   "metadata": {},
   "outputs": [],
   "source": [
    "AB = B - C\n",
    "AC = C - A\n",
    "BD = D - B\n",
    "BE = E - B\n",
    "CF = F - C\n",
    "\n",
    "UnitBD = BD / np.linalg.norm(BD)\n",
    "UnitBE = BE / np.linalg.norm(BE)\n",
    "UnitCF = CF / np.linalg.norm(CF)\n",
    "\n",
    "RadBD = np.cross(AB, UnitBD)\n",
    "RadBE = np.cross(AB, UnitBE)\n",
    "RadCF = np.cross(AC, UnitCF)"
   ]
  },
  {
   "cell_type": "markdown",
   "id": "1260f6bc",
   "metadata": {},
   "source": [
    "This lets you represent the tension (T) and reaction (R) forces acting on the system as\n",
    "\n",
    "$$\\left[\n",
    "\\begin{array}\n",
    "~1/3 & 1/3 & 1 & 0 & 0\\\\\n",
    "-2/3 & -2/3 & 0 & 1 & 0\\\\\n",
    "-2/3 & 2/3 & 0 & 0 & 1\\\\\n",
    "\\end{array}\n",
    "\\right]\n",
    "\\left[\n",
    "\\begin{array}\n",
    "~T_{BD}\\\\\n",
    "T_{BE}\\\\\n",
    "R_{x}\\\\\n",
    "R_{y}\\\\\n",
    "R_{z}\\\\\n",
    "\\end{array}\n",
    "\\right]\n",
    "=\n",
    "\\left[\n",
    "\\begin{array}\n",
    "~195\\\\\n",
    "390\\\\\n",
    "-130\\\\\n",
    "\\end{array}\n",
    "\\right]$$\n",
    "\n",
    "and the moments as\n",
    "\n",
    "$$\\left[\n",
    "\\begin{array}\n",
    "~2 & -2\\\\\n",
    "1 & 1\\\\\n",
    "\\end{array}\n",
    "\\right]\n",
    "\\left[\n",
    "\\begin{array}\n",
    "~T_{BD}\\\\\n",
    "T_{BE}\\\\\n",
    "\\end{array}\n",
    "\\right]\n",
    "=\n",
    "\\left[\n",
    "\\begin{array}\n",
    "~780\\\\\n",
    "1170\\\\\n",
    "\\end{array}\n",
    "\\right]$$\n",
    "\n",
    "Where $T$ is the tension in the respective cord and $R$ is the reaction force in a respective direction. Then you just have six equations:\n",
    "\n",
    "\n",
    "$\\sum F_{x} = 0 = T_{BE}/3+T_{BD}/3-195+R_{x}$\n",
    "\n",
    "$\\sum F_{y} = 0 = (-\\frac{2}{3})T_{BE}-\\frac{2}{3}T_{BD}-390+R_{y}$\n",
    "\n",
    "$\\sum F_{z} = 0 = (-\\frac{2}{3})T_{BE}+\\frac{2}{3}T_{BD}+130+R_{z}$\n",
    "\n",
    "$\\sum M_{x} = 0 = 780+2T_{BE}-2T_{BD}$\n",
    "\n",
    "$\\sum M_{z} = 0 = 1170-T_{BE}-T_{BD}$\n",
    "\n",
    "\n",
    "You now have five unknowns with five equations, and can solve for:\n",
    "\n",
    "$\\ T_{BD} = 780N$\n",
    "\n",
    "$\\ T_{BE} = 390N$\n",
    "\n",
    "$\\ R_{x} = -195N$\n",
    "\n",
    "$\\ R_{y} = 1170N$\n",
    "\n",
    "$\\ R_{z} = 130N$"
   ]
  },
  {
   "cell_type": "markdown",
   "id": "a99fdfff",
   "metadata": {},
   "source": [
    "## Wrapping up\n",
    "\n",
    "You have learned how to use arrays to represent points, forces, and moments in three dimensional space. Each entry in an array can be used to represent a physical property broken into directional components. These can then be easily manipulated with NumPy functions.\n",
    "\n",
    "### Additional Applications\n",
    "\n",
    "This same process can be applied to kinetic problems or in any number of dimensions. The examples done in this tutorial assumed three dimensional problems in static equilibrium. These methods can easily be used in more varied problems. More or less dimensions require larger or smaller arrays to represent. In systems experiencing acceleration, velocity and acceleration can be similarly be represented as vectors as well.\n",
    "\n",
    "### References\n",
    "\n",
    "1. [Vector Mechanics for Engineers: Statics (Beer & Johnston & Mazurek)](https://www.mheducation.com/highered/product/vector-mechanics-engineers-statics-beer-johnston/M9780077687304.html)\n",
    "2. [NumPy Reference](https://numpy.org/doc/stable/reference/)"
   ]
  }
 ],
 "metadata": {
  "jupytext": {
   "text_representation": {
    "extension": ".md",
    "format_name": "myst",
    "format_version": 0.13,
    "jupytext_version": "1.11.1"
   }
  },
  "kernelspec": {
   "display_name": "Python 3",
   "language": "python",
   "name": "python3"
  },
  "language_info": {
   "codemirror_mode": {
    "name": "ipython",
    "version": 3
   },
   "file_extension": ".py",
   "mimetype": "text/x-python",
   "name": "python",
   "nbconvert_exporter": "python",
   "pygments_lexer": "ipython3",
   "version": "3.8.13"
  },
  "source_map": [
   12,
   35,
   38,
   45,
   69,
   74,
   82,
   101,
   105,
   108,
   113,
   133,
   159,
   176,
   195,
   203,
   219,
   228,
   233,
   236,
   242,
   246,
   250,
   253,
   257,
   263,
   276,
   283,
   287,
   301,
   378
  ]
 },
 "nbformat": 4,
 "nbformat_minor": 5
}